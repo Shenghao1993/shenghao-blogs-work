{
 "cells": [
  {
   "cell_type": "markdown",
   "metadata": {
    "id": "psVPlC4Lv3-I"
   },
   "source": [
    "# Credit Card Fraud Detection\n",
    "\n",
    "* SMOTE is used for handle the extreme class imbalance.\n",
    "* XGBoost is used for training the fraud detection classifier.\n",
    "* Dataset: https://www.kaggle.com/mlg-ulb/creditcardfraud\n"
   ]
  },
  {
   "cell_type": "markdown",
   "metadata": {
    "id": "Zwlc4gYJZL8b"
   },
   "source": [
    "## Load Dataset"
   ]
  },
  {
   "cell_type": "code",
   "execution_count": 1,
   "metadata": {
    "id": "QhbWw7mvZWQq"
   },
   "outputs": [],
   "source": [
    "import pandas as pd\n",
    "import numpy as np\n",
    "import matplotlib.pyplot as plt\n",
    "import seaborn as sns"
   ]
  },
  {
   "cell_type": "code",
   "execution_count": 2,
   "metadata": {
    "colab": {
     "base_uri": "https://localhost:8080/",
     "height": 288
    },
    "executionInfo": {
     "elapsed": 1701,
     "status": "ok",
     "timestamp": 1642230977339,
     "user": {
      "displayName": "Shenghao Wang",
      "photoUrl": "https://lh3.googleusercontent.com/a-/AOh14GiT6goIzUJr_1VjpA5YJ4Uqk6hgVMG81xgsvkvgLg=s64",
      "userId": "07533046575054140568"
     },
     "user_tz": -480
    },
    "id": "kYllWNmxZ3AT",
    "outputId": "53a216c2-d7f0-4f4a-f5b7-89c814f48359"
   },
   "outputs": [
    {
     "name": "stdout",
     "output_type": "stream",
     "text": [
      "(284807, 31)\n"
     ]
    },
    {
     "data": {
      "text/html": [
       "<div>\n",
       "<style scoped>\n",
       "    .dataframe tbody tr th:only-of-type {\n",
       "        vertical-align: middle;\n",
       "    }\n",
       "\n",
       "    .dataframe tbody tr th {\n",
       "        vertical-align: top;\n",
       "    }\n",
       "\n",
       "    .dataframe thead th {\n",
       "        text-align: right;\n",
       "    }\n",
       "</style>\n",
       "<table border=\"1\" class=\"dataframe\">\n",
       "  <thead>\n",
       "    <tr style=\"text-align: right;\">\n",
       "      <th></th>\n",
       "      <th>Time</th>\n",
       "      <th>V1</th>\n",
       "      <th>V2</th>\n",
       "      <th>V3</th>\n",
       "      <th>V4</th>\n",
       "      <th>V5</th>\n",
       "      <th>V6</th>\n",
       "      <th>V7</th>\n",
       "      <th>V8</th>\n",
       "      <th>V9</th>\n",
       "      <th>...</th>\n",
       "      <th>V21</th>\n",
       "      <th>V22</th>\n",
       "      <th>V23</th>\n",
       "      <th>V24</th>\n",
       "      <th>V25</th>\n",
       "      <th>V26</th>\n",
       "      <th>V27</th>\n",
       "      <th>V28</th>\n",
       "      <th>Amount</th>\n",
       "      <th>Class</th>\n",
       "    </tr>\n",
       "  </thead>\n",
       "  <tbody>\n",
       "    <tr>\n",
       "      <th>0</th>\n",
       "      <td>0.0</td>\n",
       "      <td>-1.359807</td>\n",
       "      <td>-0.072781</td>\n",
       "      <td>2.536347</td>\n",
       "      <td>1.378155</td>\n",
       "      <td>-0.338321</td>\n",
       "      <td>0.462388</td>\n",
       "      <td>0.239599</td>\n",
       "      <td>0.098698</td>\n",
       "      <td>0.363787</td>\n",
       "      <td>...</td>\n",
       "      <td>-0.018307</td>\n",
       "      <td>0.277838</td>\n",
       "      <td>-0.110474</td>\n",
       "      <td>0.066928</td>\n",
       "      <td>0.128539</td>\n",
       "      <td>-0.189115</td>\n",
       "      <td>0.133558</td>\n",
       "      <td>-0.021053</td>\n",
       "      <td>149.62</td>\n",
       "      <td>0</td>\n",
       "    </tr>\n",
       "    <tr>\n",
       "      <th>1</th>\n",
       "      <td>0.0</td>\n",
       "      <td>1.191857</td>\n",
       "      <td>0.266151</td>\n",
       "      <td>0.166480</td>\n",
       "      <td>0.448154</td>\n",
       "      <td>0.060018</td>\n",
       "      <td>-0.082361</td>\n",
       "      <td>-0.078803</td>\n",
       "      <td>0.085102</td>\n",
       "      <td>-0.255425</td>\n",
       "      <td>...</td>\n",
       "      <td>-0.225775</td>\n",
       "      <td>-0.638672</td>\n",
       "      <td>0.101288</td>\n",
       "      <td>-0.339846</td>\n",
       "      <td>0.167170</td>\n",
       "      <td>0.125895</td>\n",
       "      <td>-0.008983</td>\n",
       "      <td>0.014724</td>\n",
       "      <td>2.69</td>\n",
       "      <td>0</td>\n",
       "    </tr>\n",
       "    <tr>\n",
       "      <th>2</th>\n",
       "      <td>1.0</td>\n",
       "      <td>-1.358354</td>\n",
       "      <td>-1.340163</td>\n",
       "      <td>1.773209</td>\n",
       "      <td>0.379780</td>\n",
       "      <td>-0.503198</td>\n",
       "      <td>1.800499</td>\n",
       "      <td>0.791461</td>\n",
       "      <td>0.247676</td>\n",
       "      <td>-1.514654</td>\n",
       "      <td>...</td>\n",
       "      <td>0.247998</td>\n",
       "      <td>0.771679</td>\n",
       "      <td>0.909412</td>\n",
       "      <td>-0.689281</td>\n",
       "      <td>-0.327642</td>\n",
       "      <td>-0.139097</td>\n",
       "      <td>-0.055353</td>\n",
       "      <td>-0.059752</td>\n",
       "      <td>378.66</td>\n",
       "      <td>0</td>\n",
       "    </tr>\n",
       "    <tr>\n",
       "      <th>3</th>\n",
       "      <td>1.0</td>\n",
       "      <td>-0.966272</td>\n",
       "      <td>-0.185226</td>\n",
       "      <td>1.792993</td>\n",
       "      <td>-0.863291</td>\n",
       "      <td>-0.010309</td>\n",
       "      <td>1.247203</td>\n",
       "      <td>0.237609</td>\n",
       "      <td>0.377436</td>\n",
       "      <td>-1.387024</td>\n",
       "      <td>...</td>\n",
       "      <td>-0.108300</td>\n",
       "      <td>0.005274</td>\n",
       "      <td>-0.190321</td>\n",
       "      <td>-1.175575</td>\n",
       "      <td>0.647376</td>\n",
       "      <td>-0.221929</td>\n",
       "      <td>0.062723</td>\n",
       "      <td>0.061458</td>\n",
       "      <td>123.50</td>\n",
       "      <td>0</td>\n",
       "    </tr>\n",
       "    <tr>\n",
       "      <th>4</th>\n",
       "      <td>2.0</td>\n",
       "      <td>-1.158233</td>\n",
       "      <td>0.877737</td>\n",
       "      <td>1.548718</td>\n",
       "      <td>0.403034</td>\n",
       "      <td>-0.407193</td>\n",
       "      <td>0.095921</td>\n",
       "      <td>0.592941</td>\n",
       "      <td>-0.270533</td>\n",
       "      <td>0.817739</td>\n",
       "      <td>...</td>\n",
       "      <td>-0.009431</td>\n",
       "      <td>0.798278</td>\n",
       "      <td>-0.137458</td>\n",
       "      <td>0.141267</td>\n",
       "      <td>-0.206010</td>\n",
       "      <td>0.502292</td>\n",
       "      <td>0.219422</td>\n",
       "      <td>0.215153</td>\n",
       "      <td>69.99</td>\n",
       "      <td>0</td>\n",
       "    </tr>\n",
       "  </tbody>\n",
       "</table>\n",
       "<p>5 rows × 31 columns</p>\n",
       "</div>"
      ],
      "text/plain": [
       "   Time        V1        V2        V3        V4        V5        V6        V7  \\\n",
       "0   0.0 -1.359807 -0.072781  2.536347  1.378155 -0.338321  0.462388  0.239599   \n",
       "1   0.0  1.191857  0.266151  0.166480  0.448154  0.060018 -0.082361 -0.078803   \n",
       "2   1.0 -1.358354 -1.340163  1.773209  0.379780 -0.503198  1.800499  0.791461   \n",
       "3   1.0 -0.966272 -0.185226  1.792993 -0.863291 -0.010309  1.247203  0.237609   \n",
       "4   2.0 -1.158233  0.877737  1.548718  0.403034 -0.407193  0.095921  0.592941   \n",
       "\n",
       "         V8        V9  ...       V21       V22       V23       V24       V25  \\\n",
       "0  0.098698  0.363787  ... -0.018307  0.277838 -0.110474  0.066928  0.128539   \n",
       "1  0.085102 -0.255425  ... -0.225775 -0.638672  0.101288 -0.339846  0.167170   \n",
       "2  0.247676 -1.514654  ...  0.247998  0.771679  0.909412 -0.689281 -0.327642   \n",
       "3  0.377436 -1.387024  ... -0.108300  0.005274 -0.190321 -1.175575  0.647376   \n",
       "4 -0.270533  0.817739  ... -0.009431  0.798278 -0.137458  0.141267 -0.206010   \n",
       "\n",
       "        V26       V27       V28  Amount  Class  \n",
       "0 -0.189115  0.133558 -0.021053  149.62      0  \n",
       "1  0.125895 -0.008983  0.014724    2.69      0  \n",
       "2 -0.139097 -0.055353 -0.059752  378.66      0  \n",
       "3 -0.221929  0.062723  0.061458  123.50      0  \n",
       "4  0.502292  0.219422  0.215153   69.99      0  \n",
       "\n",
       "[5 rows x 31 columns]"
      ]
     },
     "execution_count": 2,
     "metadata": {},
     "output_type": "execute_result"
    }
   ],
   "source": [
    "df = pd.read_csv('data/creditcard.csv')\n",
    "print(df.shape)\n",
    "\n",
    "df.head()"
   ]
  },
  {
   "cell_type": "markdown",
   "metadata": {
    "id": "ZKpslxO3dNBU"
   },
   "source": [
    "## Exploratory Data Analysis"
   ]
  },
  {
   "cell_type": "code",
   "execution_count": 3,
   "metadata": {
    "colab": {
     "base_uri": "https://localhost:8080/"
    },
    "executionInfo": {
     "elapsed": 14,
     "status": "ok",
     "timestamp": 1642230977340,
     "user": {
      "displayName": "Shenghao Wang",
      "photoUrl": "https://lh3.googleusercontent.com/a-/AOh14GiT6goIzUJr_1VjpA5YJ4Uqk6hgVMG81xgsvkvgLg=s64",
      "userId": "07533046575054140568"
     },
     "user_tz": -480
    },
    "id": "jBYy-RW9aACD",
    "outputId": "6c1047c0-6b78-4393-fc1a-e06cec35961d"
   },
   "outputs": [
    {
     "data": {
      "text/plain": [
       "Time      0.0\n",
       "V1        0.0\n",
       "V2        0.0\n",
       "V3        0.0\n",
       "V4        0.0\n",
       "V5        0.0\n",
       "V6        0.0\n",
       "V7        0.0\n",
       "V8        0.0\n",
       "V9        0.0\n",
       "V10       0.0\n",
       "V11       0.0\n",
       "V12       0.0\n",
       "V13       0.0\n",
       "V14       0.0\n",
       "V15       0.0\n",
       "V16       0.0\n",
       "V17       0.0\n",
       "V18       0.0\n",
       "V19       0.0\n",
       "V20       0.0\n",
       "V21       0.0\n",
       "V22       0.0\n",
       "V23       0.0\n",
       "V24       0.0\n",
       "V25       0.0\n",
       "V26       0.0\n",
       "V27       0.0\n",
       "V28       0.0\n",
       "Amount    0.0\n",
       "Class     0.0\n",
       "dtype: float64"
      ]
     },
     "execution_count": 3,
     "metadata": {},
     "output_type": "execute_result"
    }
   ],
   "source": [
    "df.isna().sum() / df.shape[0]"
   ]
  },
  {
   "cell_type": "code",
   "execution_count": 4,
   "metadata": {
    "colab": {
     "base_uri": "https://localhost:8080/"
    },
    "executionInfo": {
     "elapsed": 12,
     "status": "ok",
     "timestamp": 1642230977341,
     "user": {
      "displayName": "Shenghao Wang",
      "photoUrl": "https://lh3.googleusercontent.com/a-/AOh14GiT6goIzUJr_1VjpA5YJ4Uqk6hgVMG81xgsvkvgLg=s64",
      "userId": "07533046575054140568"
     },
     "user_tz": -480
    },
    "id": "bOpBJ5q7aFnr",
    "outputId": "6c739ae0-2b7e-41d7-c5b1-c663cceb6f34"
   },
   "outputs": [
    {
     "data": {
      "text/plain": [
       "0    284315\n",
       "1       492\n",
       "Name: Class, dtype: int64"
      ]
     },
     "execution_count": 4,
     "metadata": {},
     "output_type": "execute_result"
    }
   ],
   "source": [
    "df[\"Class\"].value_counts()"
   ]
  },
  {
   "cell_type": "markdown",
   "metadata": {
    "id": "Kb0R8V4nnxFO"
   },
   "source": [
    "### Transaction amount & time"
   ]
  },
  {
   "cell_type": "code",
   "execution_count": 5,
   "metadata": {
    "colab": {
     "base_uri": "https://localhost:8080/",
     "height": 282
    },
    "executionInfo": {
     "elapsed": 1322,
     "status": "ok",
     "timestamp": 1642230978653,
     "user": {
      "displayName": "Shenghao Wang",
      "photoUrl": "https://lh3.googleusercontent.com/a-/AOh14GiT6goIzUJr_1VjpA5YJ4Uqk6hgVMG81xgsvkvgLg=s64",
      "userId": "07533046575054140568"
     },
     "user_tz": -480
    },
    "id": "PQ0A1ZPCaK8T",
    "outputId": "5fdabdd0-3ff6-4005-b975-a7ba2702de12"
   },
   "outputs": [
    {
     "data": {
      "image/png": "[encoded data removed]",
      "text/plain": [
       "<Figure size 1296x288 with 2 Axes>"
      ]
     },
     "metadata": {
      "needs_background": "light"
     },
     "output_type": "display_data"
    }
   ],
   "source": [
    "fig, ax = plt.subplots(1, 2, figsize=(18,4))\n",
    "\n",
    "amount_val = df['Amount'].values\n",
    "time_val = df['Time'].values\n",
    "\n",
    "sns.histplot(amount_val, ax=ax[0], color='r', bins=50)\n",
    "ax[0].set_title('Distribution of Transaction Amount', fontsize=14)\n",
    "ax[0].set_xlim([min(amount_val), max(amount_val)])\n",
    "\n",
    "sns.histplot(time_val, ax=ax[1], color='b', bins=50)\n",
    "ax[1].set_title('Distribution of Transaction Time', fontsize=14)\n",
    "ax[1].set_xlim([min(time_val), max(time_val)])\n",
    "\n",
    "\n",
    "\n",
    "plt.show()"
   ]
  },
  {
   "cell_type": "markdown",
   "metadata": {
    "id": "9V9GvhtNvtp-"
   },
   "source": [
    "### Correlation matrix"
   ]
  },
  {
   "cell_type": "code",
   "execution_count": 6,
   "metadata": {
    "colab": {
     "base_uri": "https://localhost:8080/"
    },
    "executionInfo": {
     "elapsed": 23,
     "status": "ok",
     "timestamp": 1642230978654,
     "user": {
      "displayName": "Shenghao Wang",
      "photoUrl": "https://lh3.googleusercontent.com/a-/AOh14GiT6goIzUJr_1VjpA5YJ4Uqk6hgVMG81xgsvkvgLg=s64",
      "userId": "07533046575054140568"
     },
     "user_tz": -480
    },
    "id": "c0fegShftnZ1",
    "outputId": "35eb4673-866d-4960-f308-1b9a71c9eb71"
   },
   "outputs": [
    {
     "data": {
      "text/plain": [
       "((492, 31), (284315, 31))"
      ]
     },
     "execution_count": 6,
     "metadata": {},
     "output_type": "execute_result"
    }
   ],
   "source": [
    "fraud_df = df.loc[df['Class'] == 1]\n",
    "non_fraud_df = df.loc[df['Class'] == 0]\n",
    "\n",
    "fraud_df.shape, non_fraud_df.shape"
   ]
  },
  {
   "cell_type": "code",
   "execution_count": 7,
   "metadata": {
    "colab": {
     "base_uri": "https://localhost:8080/",
     "height": 1000
    },
    "executionInfo": {
     "elapsed": 3022,
     "status": "ok",
     "timestamp": 1642230981657,
     "user": {
      "displayName": "Shenghao Wang",
      "photoUrl": "https://lh3.googleusercontent.com/a-/AOh14GiT6goIzUJr_1VjpA5YJ4Uqk6hgVMG81xgsvkvgLg=s64",
      "userId": "07533046575054140568"
     },
     "user_tz": -480
    },
    "id": "e2I1DlU0dTa6",
    "outputId": "7ee0bbc8-de3a-4ff6-a260-2a5b9a29d563"
   },
   "outputs": [
    {
     "data": {
      "image/png": "[encoded data removed]",
      "text/plain": [
       "<Figure size 1728x1440 with 4 Axes>"
      ]
     },
     "metadata": {
      "needs_background": "light"
     },
     "output_type": "display_data"
    }
   ],
   "source": [
    "# Make sure we use the subsample in our correlation\n",
    "\n",
    "f, (ax1, ax2) = plt.subplots(2, 1, figsize=(24,20))\n",
    "\n",
    "# Entire DataFrame\n",
    "corr = df.corr()\n",
    "sns.heatmap(corr, cmap='coolwarm_r', annot_kws={'size':20}, ax=ax1)\n",
    "ax1.set_title(\"Imbalanced Correlation Matrix \\n (don't use for reference)\", fontsize=14)\n",
    "\n",
    "balanced_df = pd.concat([fraud_df, non_fraud_df[:fraud_df.shape[0]]])\n",
    "sub_sample_corr = balanced_df.corr()\n",
    "sns.heatmap(sub_sample_corr, cmap='coolwarm_r', annot_kws={'size':20}, ax=ax2)\n",
    "ax2.set_title('SubSample Correlation Matrix \\n (use for reference)', fontsize=14)\n",
    "plt.show()"
   ]
  },
  {
   "cell_type": "markdown",
   "metadata": {
    "id": "IVgdoG7di4zL"
   },
   "source": [
    "Observations:\n",
    "* Features positively correlated with Class: Time, V2, V4, V11, V19.\n",
    "* Features negatively correlated with Class: V1, V3, V5, V6, V7, V9, V10, V12, V14, V16, V17, V18"
   ]
  },
  {
   "cell_type": "markdown",
   "metadata": {
    "id": "I_sVkQmNxyfp"
   },
   "source": [
    "### Positively correlated features"
   ]
  },
  {
   "cell_type": "code",
   "execution_count": 8,
   "metadata": {
    "id": "As7iWAWHyn9C"
   },
   "outputs": [],
   "source": [
    "colors = [\"#0101DF\", \"#DF0101\"]"
   ]
  },
  {
   "cell_type": "code",
   "execution_count": 9,
   "metadata": {
    "colab": {
     "base_uri": "https://localhost:8080/",
     "height": 295
    },
    "executionInfo": {
     "elapsed": 23,
     "status": "ok",
     "timestamp": 1642230981659,
     "user": {
      "displayName": "Shenghao Wang",
      "photoUrl": "https://lh3.googleusercontent.com/a-/AOh14GiT6goIzUJr_1VjpA5YJ4Uqk6hgVMG81xgsvkvgLg=s64",
      "userId": "07533046575054140568"
     },
     "user_tz": -480
    },
    "id": "UqnMLnOHyK65",
    "outputId": "0ff7e0c1-e291-456b-b63d-a1a6e0788bd1"
   },
   "outputs": [
    {
     "data": {
      "image/png": "[encoded data removed]",
      "text/plain": [
       "<Figure size 1440x288 with 4 Axes>"
      ]
     },
     "metadata": {
      "needs_background": "light"
     },
     "output_type": "display_data"
    }
   ],
   "source": [
    "f, axes = plt.subplots(ncols=4, figsize=(20,4))\n",
    "\n",
    "# Positive correlations (The higher the feature the probability increases that it will be a fraud transaction)\n",
    "sns.boxplot(x=\"Class\", y=\"V2\", data=balanced_df, palette=colors, ax=axes[0])\n",
    "axes[0].set_title('V2 vs Class Positive Correlation')\n",
    "\n",
    "sns.boxplot(x=\"Class\", y=\"V4\", data=balanced_df, palette=colors, ax=axes[1])\n",
    "axes[1].set_title('V4 vs Class Positive Correlation')\n",
    "\n",
    "\n",
    "sns.boxplot(x=\"Class\", y=\"V11\", data=balanced_df, palette=colors, ax=axes[2])\n",
    "axes[2].set_title('V11 vs Class Positive Correlation')\n",
    "\n",
    "\n",
    "sns.boxplot(x=\"Class\", y=\"V19\", data=balanced_df, palette=colors, ax=axes[3])\n",
    "axes[3].set_title('V19 vs Class Positive Correlation')\n",
    "\n",
    "plt.show()"
   ]
  },
  {
   "cell_type": "markdown",
   "metadata": {
    "id": "w-yoKQxs2U9Q"
   },
   "source": [
    "### Negatively correlated features"
   ]
  },
  {
   "cell_type": "code",
   "execution_count": 10,
   "metadata": {
    "colab": {
     "base_uri": "https://localhost:8080/",
     "height": 295
    },
    "executionInfo": {
     "elapsed": 1389,
     "status": "ok",
     "timestamp": 1642230983026,
     "user": {
      "displayName": "Shenghao Wang",
      "photoUrl": "https://lh3.googleusercontent.com/a-/AOh14GiT6goIzUJr_1VjpA5YJ4Uqk6hgVMG81xgsvkvgLg=s64",
      "userId": "07533046575054140568"
     },
     "user_tz": -480
    },
    "id": "VCH7WrZoyXoc",
    "outputId": "6bb548c0-1076-4663-ce74-bad33cf5a3be"
   },
   "outputs": [
    {
     "data": {
      "image/png": "[encoded data removed]",
      "text/plain": [
       "<Figure size 1440x288 with 4 Axes>"
      ]
     },
     "metadata": {
      "needs_background": "light"
     },
     "output_type": "display_data"
    }
   ],
   "source": [
    "f, axes = plt.subplots(ncols=4, figsize=(20,4))\n",
    "\n",
    "# Negative Correlations with our Class (The lower our feature value the more likely it will be a fraud transaction)\n",
    "sns.boxplot(x=\"Class\", y=\"V10\", data=balanced_df, palette=colors, ax=axes[0])\n",
    "axes[0].set_title('V10 vs Class Negative Correlation')\n",
    "\n",
    "sns.boxplot(x=\"Class\", y=\"V12\", data=balanced_df, palette=colors, ax=axes[1])\n",
    "axes[1].set_title('V12 vs Class Negative Correlation')\n",
    "\n",
    "\n",
    "sns.boxplot(x=\"Class\", y=\"V14\", data=balanced_df, palette=colors, ax=axes[2])\n",
    "axes[2].set_title('V14 vs Class Negative Correlation')\n",
    "\n",
    "\n",
    "sns.boxplot(x=\"Class\", y=\"V17\", data=balanced_df, palette=colors, ax=axes[3])\n",
    "axes[3].set_title('V17 vs Class Negative Correlation')\n",
    "\n",
    "plt.show()"
   ]
  },
  {
   "cell_type": "markdown",
   "metadata": {
    "id": "Y0-LiK03zpSj"
   },
   "source": [
    "## Model Training"
   ]
  },
  {
   "cell_type": "markdown",
   "metadata": {
    "id": "-FTUpzOe3sTL"
   },
   "source": [
    "### Split data"
   ]
  },
  {
   "cell_type": "code",
   "execution_count": 11,
   "metadata": {
    "colab": {
     "base_uri": "https://localhost:8080/"
    },
    "executionInfo": {
     "elapsed": 19,
     "status": "ok",
     "timestamp": 1642230983030,
     "user": {
      "displayName": "Shenghao Wang",
      "photoUrl": "https://lh3.googleusercontent.com/a-/AOh14GiT6goIzUJr_1VjpA5YJ4Uqk6hgVMG81xgsvkvgLg=s64",
      "userId": "07533046575054140568"
     },
     "user_tz": -480
    },
    "id": "-U4Jni4U49Fr",
    "outputId": "fdfeff52-1a6b-4883-bdf9-5575651a8460"
   },
   "outputs": [
    {
     "name": "stdout",
     "output_type": "stream",
     "text": [
      "(199364, 30)\n",
      "(199364,)\n",
      "(85443, 30)\n",
      "(85443,)\n"
     ]
    }
   ],
   "source": [
    "from sklearn.model_selection import train_test_split\n",
    "\n",
    "\n",
    "X = df.drop('Class', axis=1)\n",
    "y = df['Class']\n",
    "X_train, X_test, y_train, y_test = train_test_split(\n",
    "    X, y, test_size=0.3, stratify=y, random_state=42\n",
    ")\n",
    "\n",
    "print(X_train.shape)\n",
    "print(y_train.shape)\n",
    "print(X_test.shape)\n",
    "print(y_test.shape)"
   ]
  },
  {
   "cell_type": "markdown",
   "metadata": {
    "id": "2YTWQt7ezDzM"
   },
   "source": [
    "### Scale features"
   ]
  },
  {
   "cell_type": "code",
   "execution_count": 12,
   "metadata": {
    "id": "e6Aqf5QczGO5"
   },
   "outputs": [],
   "source": [
    "from sklearn.preprocessing import RobustScaler\n",
    "\n",
    "\n",
    "scaler = RobustScaler()\n",
    "X_train_scaled = scaler.fit_transform(X_train)\n",
    "X_test_scaled = scaler.transform(X_test)"
   ]
  },
  {
   "cell_type": "markdown",
   "metadata": {
    "id": "xGnCshYw04M3"
   },
   "source": [
    "### Upsampling"
   ]
  },
  {
   "cell_type": "code",
   "execution_count": 13,
   "metadata": {
    "colab": {
     "base_uri": "https://localhost:8080/"
    },
    "executionInfo": {
     "elapsed": 660,
     "status": "ok",
     "timestamp": 1642230983673,
     "user": {
      "displayName": "Shenghao Wang",
      "photoUrl": "https://lh3.googleusercontent.com/a-/AOh14GiT6goIzUJr_1VjpA5YJ4Uqk6hgVMG81xgsvkvgLg=s64",
      "userId": "07533046575054140568"
     },
     "user_tz": -480
    },
    "id": "8un827f61pI2",
    "outputId": "934b985c-2dc1-41fa-fc80-765573d5cc79"
   },
   "outputs": [
    {
     "data": {
      "text/plain": [
       "((398040, 30), (398040,))"
      ]
     },
     "execution_count": 13,
     "metadata": {},
     "output_type": "execute_result"
    }
   ],
   "source": [
    "from imblearn.over_sampling import SMOTE \n",
    "\n",
    "\n",
    "sm = SMOTE(random_state=42)\n",
    "X_train_sm, y_train_sm = sm.fit_resample(X_train_scaled, y_train)\n",
    "\n",
    "X_train_sm.shape, y_train_sm.shape"
   ]
  },
  {
   "cell_type": "markdown",
   "metadata": {
    "id": "hHMCh8SR2McC"
   },
   "source": [
    "### Model training"
   ]
  },
  {
   "cell_type": "code",
   "execution_count": 14,
   "metadata": {
    "colab": {
     "base_uri": "https://localhost:8080/"
    },
    "executionInfo": {
     "elapsed": 24,
     "status": "ok",
     "timestamp": 1642230994462,
     "user": {
      "displayName": "Shenghao Wang",
      "photoUrl": "https://lh3.googleusercontent.com/a-/AOh14GiT6goIzUJr_1VjpA5YJ4Uqk6hgVMG81xgsvkvgLg=s64",
      "userId": "07533046575054140568"
     },
     "user_tz": -480
    },
    "id": "bD8HL7zF73oL",
    "outputId": "670cafc9-aceb-4f2d-874f-513ce508044c"
   },
   "outputs": [
    {
     "data": {
      "text/plain": [
       "0    199020\n",
       "1    199020\n",
       "Name: Class, dtype: int64"
      ]
     },
     "execution_count": 14,
     "metadata": {},
     "output_type": "execute_result"
    }
   ],
   "source": [
    "y_train_sm.value_counts()"
   ]
  },
  {
   "cell_type": "code",
   "execution_count": 15,
   "metadata": {
    "colab": {
     "base_uri": "https://localhost:8080/"
    },
    "executionInfo": {
     "elapsed": 19,
     "status": "ok",
     "timestamp": 1642230994462,
     "user": {
      "displayName": "Shenghao Wang",
      "photoUrl": "https://lh3.googleusercontent.com/a-/AOh14GiT6goIzUJr_1VjpA5YJ4Uqk6hgVMG81xgsvkvgLg=s64",
      "userId": "07533046575054140568"
     },
     "user_tz": -480
    },
    "id": "HUO6bojd786i",
    "outputId": "f4f69b17-6c6b-4429-f550-4651942aab1e"
   },
   "outputs": [
    {
     "data": {
      "text/plain": [
       "0    85295\n",
       "1      148\n",
       "Name: Class, dtype: int64"
      ]
     },
     "execution_count": 15,
     "metadata": {},
     "output_type": "execute_result"
    }
   ],
   "source": [
    "y_test.value_counts()"
   ]
  },
  {
   "cell_type": "code",
   "execution_count": 16,
   "metadata": {
    "colab": {
     "base_uri": "https://localhost:8080/"
    },
    "executionInfo": {
     "elapsed": 319173,
     "status": "ok",
     "timestamp": 1642233145291,
     "user": {
      "displayName": "Shenghao Wang",
      "photoUrl": "https://lh3.googleusercontent.com/a-/AOh14GiT6goIzUJr_1VjpA5YJ4Uqk6hgVMG81xgsvkvgLg=s64",
      "userId": "07533046575054140568"
     },
     "user_tz": -480
    },
    "id": "7B_5-gl52RYg",
    "outputId": "46820a28-3e7c-4da8-e42b-fd5f83daf702"
   },
   "outputs": [
    {
     "name": "stderr",
     "output_type": "stream",
     "text": [
      "/home/shenghao/Desktop/Debugging/shenghao-blogs-work/julia-traditional-ml/julia-traidtional-ml-env/lib/python3.9/site-packages/xgboost/compat.py:36: FutureWarning: pandas.Int64Index is deprecated and will be removed from pandas in a future version. Use pandas.Index with the appropriate dtype instead.\n",
      "  from pandas import MultiIndex, Int64Index\n",
      "/home/shenghao/Desktop/Debugging/shenghao-blogs-work/julia-traditional-ml/julia-traidtional-ml-env/lib/python3.9/site-packages/xgboost/sklearn.py:1224: UserWarning: The use of label encoder in XGBClassifier is deprecated and will be removed in a future release. To remove this warning, do the following: 1) Pass option use_label_encoder=False when constructing XGBClassifier object; and 2) Encode your labels (y) as integers starting with 0, i.e. 0, 1, 2, ..., [num_class - 1].\n",
      "  warnings.warn(label_encoder_deprecation_msg, UserWarning)\n"
     ]
    },
    {
     "name": "stdout",
     "output_type": "stream",
     "text": [
      "[0]\tvalidation_0-auc:0.94164\n",
      "[1]\tvalidation_0-auc:0.95178\n",
      "[2]\tvalidation_0-auc:0.95169\n",
      "[3]\tvalidation_0-auc:0.95588\n",
      "[4]\tvalidation_0-auc:0.95561\n",
      "[5]\tvalidation_0-auc:0.95410\n",
      "[6]\tvalidation_0-auc:0.95121\n",
      "[7]\tvalidation_0-auc:0.94848\n",
      "[8]\tvalidation_0-auc:0.94826\n",
      "[9]\tvalidation_0-auc:0.95091\n",
      "[10]\tvalidation_0-auc:0.96018\n",
      "[11]\tvalidation_0-auc:0.95861\n",
      "[12]\tvalidation_0-auc:0.95899\n",
      "[13]\tvalidation_0-auc:0.96183\n",
      "[14]\tvalidation_0-auc:0.96300\n",
      "[15]\tvalidation_0-auc:0.96591\n",
      "[16]\tvalidation_0-auc:0.96739\n",
      "[17]\tvalidation_0-auc:0.96851\n",
      "[18]\tvalidation_0-auc:0.96895\n",
      "[19]\tvalidation_0-auc:0.96871\n",
      "[20]\tvalidation_0-auc:0.96814\n",
      "[21]\tvalidation_0-auc:0.96846\n",
      "[22]\tvalidation_0-auc:0.96841\n",
      "[23]\tvalidation_0-auc:0.96792\n",
      "[24]\tvalidation_0-auc:0.96754\n",
      "[25]\tvalidation_0-auc:0.96773\n",
      "[26]\tvalidation_0-auc:0.96773\n",
      "[27]\tvalidation_0-auc:0.96763\n",
      "[28]\tvalidation_0-auc:0.96737\n",
      "[29]\tvalidation_0-auc:0.96750\n",
      "[30]\tvalidation_0-auc:0.96737\n",
      "[31]\tvalidation_0-auc:0.96741\n",
      "[32]\tvalidation_0-auc:0.96704\n",
      "[33]\tvalidation_0-auc:0.96726\n",
      "[34]\tvalidation_0-auc:0.96779\n",
      "[35]\tvalidation_0-auc:0.96823\n",
      "[36]\tvalidation_0-auc:0.96851\n",
      "[37]\tvalidation_0-auc:0.96825\n",
      "[38]\tvalidation_0-auc:0.96843\n",
      "[39]\tvalidation_0-auc:0.96805\n",
      "[40]\tvalidation_0-auc:0.96823\n",
      "[41]\tvalidation_0-auc:0.96802\n",
      "[42]\tvalidation_0-auc:0.96778\n",
      "[43]\tvalidation_0-auc:0.96853\n",
      "[44]\tvalidation_0-auc:0.96831\n",
      "[45]\tvalidation_0-auc:0.96845\n",
      "[46]\tvalidation_0-auc:0.96777\n",
      "[47]\tvalidation_0-auc:0.96682\n",
      "[48]\tvalidation_0-auc:0.96657\n",
      "[49]\tvalidation_0-auc:0.96537\n",
      "[50]\tvalidation_0-auc:0.96552\n",
      "[51]\tvalidation_0-auc:0.96526\n",
      "[52]\tvalidation_0-auc:0.96538\n",
      "[53]\tvalidation_0-auc:0.96487\n",
      "[54]\tvalidation_0-auc:0.96549\n",
      "[55]\tvalidation_0-auc:0.96488\n",
      "[56]\tvalidation_0-auc:0.96579\n",
      "[57]\tvalidation_0-auc:0.96724\n",
      "[58]\tvalidation_0-auc:0.96803\n",
      "[59]\tvalidation_0-auc:0.96845\n",
      "[60]\tvalidation_0-auc:0.96887\n",
      "[61]\tvalidation_0-auc:0.96835\n",
      "[62]\tvalidation_0-auc:0.96874\n",
      "[63]\tvalidation_0-auc:0.96832\n",
      "[64]\tvalidation_0-auc:0.96876\n",
      "[65]\tvalidation_0-auc:0.96859\n",
      "[66]\tvalidation_0-auc:0.96827\n",
      "[67]\tvalidation_0-auc:0.96832\n",
      "[68]\tvalidation_0-auc:0.96827\n",
      "Elapsed time: 40.7139 seconds ...\n"
     ]
    }
   ],
   "source": [
    "import time\n",
    "from xgboost import XGBClassifier\n",
    "\n",
    "clf = XGBClassifier(\n",
    "    objective='binary:logistic',\n",
    "    n_estimators=1000, \n",
    "    learning_rate=0.1,\n",
    ")\n",
    "\n",
    "start_time = time.time()\n",
    "clf.fit(\n",
    "    X_train_sm, y_train_sm,\n",
    "    early_stopping_rounds=50,\n",
    "    eval_metric=\"auc\",\n",
    "    eval_set=[(X_test_scaled, y_test)],\n",
    "    verbose=True\n",
    ")\n",
    "print(f\"Elapsed time: {round(time.time() - start_time, 4)} seconds ...\")"
   ]
  },
  {
   "cell_type": "markdown",
   "metadata": {
    "id": "ayt5zSNg6Aqy"
   },
   "source": [
    "### Model evaluation\n",
    "\n",
    "`40.7139` seconds was spent on training the model (68 iterations)."
   ]
  },
  {
   "cell_type": "code",
   "execution_count": 17,
   "metadata": {
    "colab": {
     "base_uri": "https://localhost:8080/"
    },
    "executionInfo": {
     "elapsed": 830,
     "status": "ok",
     "timestamp": 1642233277449,
     "user": {
      "displayName": "Shenghao Wang",
      "photoUrl": "https://lh3.googleusercontent.com/a-/AOh14GiT6goIzUJr_1VjpA5YJ4Uqk6hgVMG81xgsvkvgLg=s64",
      "userId": "07533046575054140568"
     },
     "user_tz": -480
    },
    "id": "ArWUj8Dwqk9S",
    "outputId": "7a79c533-e4d5-4a9b-a796-b974caaff4c7"
   },
   "outputs": [
    {
     "name": "stdout",
     "output_type": "stream",
     "text": [
      "ROC-AUC-Test: 0.9689\n",
      "PR-AUC-Test: 0.685\n",
      "-----------------------------------------------------------\n",
      "\n"
     ]
    }
   ],
   "source": [
    "from sklearn.metrics import roc_auc_score\n",
    "from sklearn.metrics import average_precision_score\n",
    "\n",
    "\n",
    "y_pred_proba = clf.predict_proba(X_test_scaled)\n",
    "\n",
    "auc = roc_auc_score(y_test, y_pred_proba[:, 1])\n",
    "aucpr = average_precision_score(y_test, y_pred_proba[:, 1])\n",
    "print(\"ROC-AUC-Test: \" + str(round(auc, 4)))\n",
    "print(\"PR-AUC-Test: \" + str(round(aucpr, 4)))\n",
    "print(\"-----------------------------------------------------------\\n\")"
   ]
  },
  {
   "cell_type": "code",
   "execution_count": 18,
   "metadata": {
    "colab": {
     "base_uri": "https://localhost:8080/"
    },
    "executionInfo": {
     "elapsed": 1180,
     "status": "ok",
     "timestamp": 1642233282360,
     "user": {
      "displayName": "Shenghao Wang",
      "photoUrl": "https://lh3.googleusercontent.com/a-/AOh14GiT6goIzUJr_1VjpA5YJ4Uqk6hgVMG81xgsvkvgLg=s64",
      "userId": "07533046575054140568"
     },
     "user_tz": -480
    },
    "id": "xp56zrpErS0g",
    "outputId": "0138ca21-69ce-4d92-99c5-621ad0eaf1d1"
   },
   "outputs": [
    {
     "name": "stdout",
     "output_type": "stream",
     "text": [
      "Precision score: 0.1175\n",
      "Recall score: 0.8514\n",
      "F1 score: 0.2066\n"
     ]
    }
   ],
   "source": [
    "from sklearn.metrics import (\n",
    "    precision_score, recall_score, f1_score\n",
    ")\n",
    "\n",
    "y_pred = clf.predict(X_test_scaled)\n",
    "\n",
    "print(f\"Precision score: {round(precision_score(y_test, y_pred), 4)}\")\n",
    "print(f\"Recall score: {round(recall_score(y_test, y_pred), 4)}\")\n",
    "print(f\"F1 score: {round(f1_score(y_test, y_pred), 4)}\")"
   ]
  },
  {
   "cell_type": "code",
   "execution_count": 19,
   "metadata": {
    "colab": {
     "base_uri": "https://localhost:8080/",
     "height": 295
    },
    "executionInfo": {
     "elapsed": 336,
     "status": "ok",
     "timestamp": 1642234278527,
     "user": {
      "displayName": "Shenghao Wang",
      "photoUrl": "https://lh3.googleusercontent.com/a-/AOh14GiT6goIzUJr_1VjpA5YJ4Uqk6hgVMG81xgsvkvgLg=s64",
      "userId": "07533046575054140568"
     },
     "user_tz": -480
    },
    "id": "zQEbJ1EixzlD",
    "outputId": "5b96811d-baa5-479f-f9a8-7e1557b1e363"
   },
   "outputs": [
    {
     "data": {
      "image/png": "[encoded data removed]",
      "text/plain": [
       "<Figure size 432x288 with 1 Axes>"
      ]
     },
     "metadata": {
      "needs_background": "light"
     },
     "output_type": "display_data"
    }
   ],
   "source": [
    "from sklearn.metrics import (\n",
    "    roc_curve, auc\n",
    ")\n",
    "\n",
    "# calculate the fpr and tpr for all thresholds of the classification\n",
    "fpr, tpr, threshold = roc_curve(y_test, y_pred_proba[:, 1])\n",
    "roc_auc = auc(fpr, tpr)\n",
    "\n",
    "# method I: plt\n",
    "import matplotlib.pyplot as plt\n",
    "plt.title('Receiver Operating Characteristic')\n",
    "plt.plot(fpr, tpr, 'b', label = 'AUC = %0.2f' % roc_auc)\n",
    "plt.legend(loc = 'lower right')\n",
    "plt.plot([0, 1], [0, 1],'r--')\n",
    "plt.xlim([-0.01, 1])\n",
    "plt.ylim([0, 1.01])\n",
    "plt.ylabel('True Positive Rate')\n",
    "plt.xlabel('False Positive Rate')\n",
    "plt.show()"
   ]
  },
  {
   "cell_type": "markdown",
   "metadata": {
    "id": "T6EdEPIcxM0k"
   },
   "source": [
    "## Export Python Model"
   ]
  },
  {
   "cell_type": "code",
   "execution_count": 20,
   "metadata": {
    "id": "w9wQo451u1UI"
   },
   "outputs": [],
   "source": [
    "import pickle\n",
    "import joblib\n",
    "\n",
    "\n",
    "model_save_name = \"models/fraud_detect_xgboost_py_model.joblib\"\n",
    "joblib.dump(clf, model_save_name)\n",
    "\n",
    "scaler_save_name = \"models/fraud_detect_py_scaler.pkl\"\n",
    "with open (scaler_save_name, 'wb') as f:\n",
    "    pickle.dump(scaler, f)"
   ]
  },
  {
   "cell_type": "markdown",
   "metadata": {
    "id": "ElMklfPwYgQG"
   },
   "source": [
    "## References\n",
    "\n",
    "\n",
    "### Credit Fraud || Dealing with Imbalanced Datasets\n",
    "\n",
    "https://www.kaggle.com/janiobachmann/credit-fraud-dealing-with-imbalanced-datasets/notebook"
   ]
  }
 ],
 "metadata": {
  "colab": {
   "authorship_tag": "ABX9TyNCU89K2PM7OYNbhWIV4+aZ",
   "collapsed_sections": [],
   "name": "Credit Card Fraud Detection - Python.ipynb",
   "provenance": [],
   "toc_visible": true
  },
  "kernelspec": {
   "display_name": "julia-traditional-ml-env",
   "language": "python",
   "name": "julia-traditional-ml-env"
  },
  "language_info": {
   "codemirror_mode": {
    "name": "ipython",
    "version": 3
   },
   "file_extension": ".py",
   "mimetype": "text/x-python",
   "name": "python",
   "nbconvert_exporter": "python",
   "pygments_lexer": "ipython3",
   "version": "3.9.7"
  }
 },
 "nbformat": 4,
 "nbformat_minor": 4
}
