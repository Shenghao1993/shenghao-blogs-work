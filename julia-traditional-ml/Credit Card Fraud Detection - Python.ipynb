{
 "cells": [
  {
   "cell_type": "markdown",
   "metadata": {
    "id": "psVPlC4Lv3-I"
   },
   "source": [
    "# Credit Card Fraud Detection - Python\n",
    "\n",
    "* SMOTE is used for handle the extreme class imbalance.\n",
    "* XGBoost is used for training the fraud detection classifier.\n",
    "* Dataset: https://www.kaggle.com/mlg-ulb/creditcardfraud\n"
   ]
  },
  {
   "cell_type": "markdown",
   "metadata": {
    "id": "Zwlc4gYJZL8b"
   },
   "source": [
    "## Load Dataset"
   ]
  },
  {
   "cell_type": "code",
   "execution_count": 1,
   "metadata": {
    "id": "QhbWw7mvZWQq"
   },
   "outputs": [],
   "source": [
    "import pandas as pd\n",
    "import numpy as np\n",
    "import matplotlib.pyplot as plt\n",
    "import seaborn as sns"
   ]
  },
  {
   "cell_type": "code",
   "execution_count": 2,
   "metadata": {
    "colab": {
     "base_uri": "https://localhost:8080/",
     "height": 288
    },
    "executionInfo": {
     "elapsed": 1701,
     "status": "ok",
     "timestamp": 1642230977339,
     "user": {
      "displayName": "Shenghao Wang",
      "photoUrl": "https://lh3.googleusercontent.com/a-/AOh14GiT6goIzUJr_1VjpA5YJ4Uqk6hgVMG81xgsvkvgLg=s64",
      "userId": "07533046575054140568"
     },
     "user_tz": -480
    },
    "id": "kYllWNmxZ3AT",
    "outputId": "53a216c2-d7f0-4f4a-f5b7-89c814f48359"
   },
   "outputs": [
    {
     "name": "stdout",
     "output_type": "stream",
     "text": [
      "(284807, 31)\n"
     ]
    },
    {
     "data": {
      "text/html": [
       "<div>\n",
       "<style scoped>\n",
       "    .dataframe tbody tr th:only-of-type {\n",
       "        vertical-align: middle;\n",
       "    }\n",
       "\n",
       "    .dataframe tbody tr th {\n",
       "        vertical-align: top;\n",
       "    }\n",
       "\n",
       "    .dataframe thead th {\n",
       "        text-align: right;\n",
       "    }\n",
       "</style>\n",
       "<table border=\"1\" class=\"dataframe\">\n",
       "  <thead>\n",
       "    <tr style=\"text-align: right;\">\n",
       "      <th></th>\n",
       "      <th>Time</th>\n",
       "      <th>V1</th>\n",
       "      <th>V2</th>\n",
       "      <th>V3</th>\n",
       "      <th>V4</th>\n",
       "      <th>V5</th>\n",
       "      <th>V6</th>\n",
       "      <th>V7</th>\n",
       "      <th>V8</th>\n",
       "      <th>V9</th>\n",
       "      <th>...</th>\n",
       "      <th>V21</th>\n",
       "      <th>V22</th>\n",
       "      <th>V23</th>\n",
       "      <th>V24</th>\n",
       "      <th>V25</th>\n",
       "      <th>V26</th>\n",
       "      <th>V27</th>\n",
       "      <th>V28</th>\n",
       "      <th>Amount</th>\n",
       "      <th>Class</th>\n",
       "    </tr>\n",
       "  </thead>\n",
       "  <tbody>\n",
       "    <tr>\n",
       "      <th>0</th>\n",
       "      <td>0.0</td>\n",
       "      <td>-1.359807</td>\n",
       "      <td>-0.072781</td>\n",
       "      <td>2.536347</td>\n",
       "      <td>1.378155</td>\n",
       "      <td>-0.338321</td>\n",
       "      <td>0.462388</td>\n",
       "      <td>0.239599</td>\n",
       "      <td>0.098698</td>\n",
       "      <td>0.363787</td>\n",
       "      <td>...</td>\n",
       "      <td>-0.018307</td>\n",
       "      <td>0.277838</td>\n",
       "      <td>-0.110474</td>\n",
       "      <td>0.066928</td>\n",
       "      <td>0.128539</td>\n",
       "      <td>-0.189115</td>\n",
       "      <td>0.133558</td>\n",
       "      <td>-0.021053</td>\n",
       "      <td>149.62</td>\n",
       "      <td>0</td>\n",
       "    </tr>\n",
       "    <tr>\n",
       "      <th>1</th>\n",
       "      <td>0.0</td>\n",
       "      <td>1.191857</td>\n",
       "      <td>0.266151</td>\n",
       "      <td>0.166480</td>\n",
       "      <td>0.448154</td>\n",
       "      <td>0.060018</td>\n",
       "      <td>-0.082361</td>\n",
       "      <td>-0.078803</td>\n",
       "      <td>0.085102</td>\n",
       "      <td>-0.255425</td>\n",
       "      <td>...</td>\n",
       "      <td>-0.225775</td>\n",
       "      <td>-0.638672</td>\n",
       "      <td>0.101288</td>\n",
       "      <td>-0.339846</td>\n",
       "      <td>0.167170</td>\n",
       "      <td>0.125895</td>\n",
       "      <td>-0.008983</td>\n",
       "      <td>0.014724</td>\n",
       "      <td>2.69</td>\n",
       "      <td>0</td>\n",
       "    </tr>\n",
       "    <tr>\n",
       "      <th>2</th>\n",
       "      <td>1.0</td>\n",
       "      <td>-1.358354</td>\n",
       "      <td>-1.340163</td>\n",
       "      <td>1.773209</td>\n",
       "      <td>0.379780</td>\n",
       "      <td>-0.503198</td>\n",
       "      <td>1.800499</td>\n",
       "      <td>0.791461</td>\n",
       "      <td>0.247676</td>\n",
       "      <td>-1.514654</td>\n",
       "      <td>...</td>\n",
       "      <td>0.247998</td>\n",
       "      <td>0.771679</td>\n",
       "      <td>0.909412</td>\n",
       "      <td>-0.689281</td>\n",
       "      <td>-0.327642</td>\n",
       "      <td>-0.139097</td>\n",
       "      <td>-0.055353</td>\n",
       "      <td>-0.059752</td>\n",
       "      <td>378.66</td>\n",
       "      <td>0</td>\n",
       "    </tr>\n",
       "    <tr>\n",
       "      <th>3</th>\n",
       "      <td>1.0</td>\n",
       "      <td>-0.966272</td>\n",
       "      <td>-0.185226</td>\n",
       "      <td>1.792993</td>\n",
       "      <td>-0.863291</td>\n",
       "      <td>-0.010309</td>\n",
       "      <td>1.247203</td>\n",
       "      <td>0.237609</td>\n",
       "      <td>0.377436</td>\n",
       "      <td>-1.387024</td>\n",
       "      <td>...</td>\n",
       "      <td>-0.108300</td>\n",
       "      <td>0.005274</td>\n",
       "      <td>-0.190321</td>\n",
       "      <td>-1.175575</td>\n",
       "      <td>0.647376</td>\n",
       "      <td>-0.221929</td>\n",
       "      <td>0.062723</td>\n",
       "      <td>0.061458</td>\n",
       "      <td>123.50</td>\n",
       "      <td>0</td>\n",
       "    </tr>\n",
       "    <tr>\n",
       "      <th>4</th>\n",
       "      <td>2.0</td>\n",
       "      <td>-1.158233</td>\n",
       "      <td>0.877737</td>\n",
       "      <td>1.548718</td>\n",
       "      <td>0.403034</td>\n",
       "      <td>-0.407193</td>\n",
       "      <td>0.095921</td>\n",
       "      <td>0.592941</td>\n",
       "      <td>-0.270533</td>\n",
       "      <td>0.817739</td>\n",
       "      <td>...</td>\n",
       "      <td>-0.009431</td>\n",
       "      <td>0.798278</td>\n",
       "      <td>-0.137458</td>\n",
       "      <td>0.141267</td>\n",
       "      <td>-0.206010</td>\n",
       "      <td>0.502292</td>\n",
       "      <td>0.219422</td>\n",
       "      <td>0.215153</td>\n",
       "      <td>69.99</td>\n",
       "      <td>0</td>\n",
       "    </tr>\n",
       "  </tbody>\n",
       "</table>\n",
       "<p>5 rows × 31 columns</p>\n",
       "</div>"
      ],
      "text/plain": [
       "   Time        V1        V2        V3        V4        V5        V6        V7  \\\n",
       "0   0.0 -1.359807 -0.072781  2.536347  1.378155 -0.338321  0.462388  0.239599   \n",
       "1   0.0  1.191857  0.266151  0.166480  0.448154  0.060018 -0.082361 -0.078803   \n",
       "2   1.0 -1.358354 -1.340163  1.773209  0.379780 -0.503198  1.800499  0.791461   \n",
       "3   1.0 -0.966272 -0.185226  1.792993 -0.863291 -0.010309  1.247203  0.237609   \n",
       "4   2.0 -1.158233  0.877737  1.548718  0.403034 -0.407193  0.095921  0.592941   \n",
       "\n",
       "         V8        V9  ...       V21       V22       V23       V24       V25  \\\n",
       "0  0.098698  0.363787  ... -0.018307  0.277838 -0.110474  0.066928  0.128539   \n",
       "1  0.085102 -0.255425  ... -0.225775 -0.638672  0.101288 -0.339846  0.167170   \n",
       "2  0.247676 -1.514654  ...  0.247998  0.771679  0.909412 -0.689281 -0.327642   \n",
       "3  0.377436 -1.387024  ... -0.108300  0.005274 -0.190321 -1.175575  0.647376   \n",
       "4 -0.270533  0.817739  ... -0.009431  0.798278 -0.137458  0.141267 -0.206010   \n",
       "\n",
       "        V26       V27       V28  Amount  Class  \n",
       "0 -0.189115  0.133558 -0.021053  149.62      0  \n",
       "1  0.125895 -0.008983  0.014724    2.69      0  \n",
       "2 -0.139097 -0.055353 -0.059752  378.66      0  \n",
       "3 -0.221929  0.062723  0.061458  123.50      0  \n",
       "4  0.502292  0.219422  0.215153   69.99      0  \n",
       "\n",
       "[5 rows x 31 columns]"
      ]
     },
     "execution_count": 2,
     "metadata": {},
     "output_type": "execute_result"
    }
   ],
   "source": [
    "import pandas as pd\n",
    "\n",
    "df = pd.read_csv('data/creditcard.csv')\n",
    "print(df.shape)\n",
    "\n",
    "df.head()"
   ]
  },
  {
   "cell_type": "markdown",
   "metadata": {
    "id": "ZKpslxO3dNBU"
   },
   "source": [
    "## Exploratory Data Analysis"
   ]
  },
  {
   "cell_type": "code",
   "execution_count": 3,
   "metadata": {
    "colab": {
     "base_uri": "https://localhost:8080/"
    },
    "executionInfo": {
     "elapsed": 14,
     "status": "ok",
     "timestamp": 1642230977340,
     "user": {
      "displayName": "Shenghao Wang",
      "photoUrl": "https://lh3.googleusercontent.com/a-/AOh14GiT6goIzUJr_1VjpA5YJ4Uqk6hgVMG81xgsvkvgLg=s64",
      "userId": "07533046575054140568"
     },
     "user_tz": -480
    },
    "id": "jBYy-RW9aACD",
    "outputId": "6c1047c0-6b78-4393-fc1a-e06cec35961d"
   },
   "outputs": [
    {
     "data": {
      "text/plain": [
       "Time      0.0\n",
       "V1        0.0\n",
       "V2        0.0\n",
       "V3        0.0\n",
       "V4        0.0\n",
       "V5        0.0\n",
       "V6        0.0\n",
       "V7        0.0\n",
       "V8        0.0\n",
       "V9        0.0\n",
       "V10       0.0\n",
       "V11       0.0\n",
       "V12       0.0\n",
       "V13       0.0\n",
       "V14       0.0\n",
       "V15       0.0\n",
       "V16       0.0\n",
       "V17       0.0\n",
       "V18       0.0\n",
       "V19       0.0\n",
       "V20       0.0\n",
       "V21       0.0\n",
       "V22       0.0\n",
       "V23       0.0\n",
       "V24       0.0\n",
       "V25       0.0\n",
       "V26       0.0\n",
       "V27       0.0\n",
       "V28       0.0\n",
       "Amount    0.0\n",
       "Class     0.0\n",
       "dtype: float64"
      ]
     },
     "execution_count": 3,
     "metadata": {},
     "output_type": "execute_result"
    }
   ],
   "source": [
    "df.isna().sum() / df.shape[0]"
   ]
  },
  {
   "cell_type": "code",
   "execution_count": 4,
   "metadata": {
    "colab": {
     "base_uri": "https://localhost:8080/"
    },
    "executionInfo": {
     "elapsed": 12,
     "status": "ok",
     "timestamp": 1642230977341,
     "user": {
      "displayName": "Shenghao Wang",
      "photoUrl": "https://lh3.googleusercontent.com/a-/AOh14GiT6goIzUJr_1VjpA5YJ4Uqk6hgVMG81xgsvkvgLg=s64",
      "userId": "07533046575054140568"
     },
     "user_tz": -480
    },
    "id": "bOpBJ5q7aFnr",
    "outputId": "6c739ae0-2b7e-41d7-c5b1-c663cceb6f34"
   },
   "outputs": [
    {
     "data": {
      "text/plain": [
       "0    284315\n",
       "1       492\n",
       "Name: Class, dtype: int64"
      ]
     },
     "execution_count": 4,
     "metadata": {},
     "output_type": "execute_result"
    }
   ],
   "source": [
    "df[\"Class\"].value_counts()"
   ]
  },
  {
   "cell_type": "markdown",
   "metadata": {
    "id": "Kb0R8V4nnxFO"
   },
   "source": [
    "### Transaction amount & time"
   ]
  },
  {
   "cell_type": "code",
   "execution_count": 5,
   "metadata": {
    "colab": {
     "base_uri": "https://localhost:8080/",
     "height": 282
    },
    "executionInfo": {
     "elapsed": 1322,
     "status": "ok",
     "timestamp": 1642230978653,
     "user": {
      "displayName": "Shenghao Wang",
      "photoUrl": "https://lh3.googleusercontent.com/a-/AOh14GiT6goIzUJr_1VjpA5YJ4Uqk6hgVMG81xgsvkvgLg=s64",
      "userId": "07533046575054140568"
     },
     "user_tz": -480
    },
    "id": "PQ0A1ZPCaK8T",
    "outputId": "5fdabdd0-3ff6-4005-b975-a7ba2702de12"
   },
   "outputs": [
    {
     "data": {
      "image/png": "[encoded data removed]",
      "text/plain": [
       "<Figure size 1296x288 with 2 Axes>"
      ]
     },
     "metadata": {
      "needs_background": "light"
     },
     "output_type": "display_data"
    }
   ],
   "source": [
    "import matplotlib.pyplot as plt\n",
    "import seaborn as sns\n",
    "\n",
    "fig, ax = plt.subplots(1, 2, figsize=(18,4))\n",
    "\n",
    "amount_val = df['Amount'].values\n",
    "time_val = df['Time'].values\n",
    "\n",
    "sns.histplot(amount_val, ax=ax[0], color='r', bins=50)\n",
    "ax[0].set_title('Distribution of Transaction Amount', fontsize=14)\n",
    "ax[0].set_xlim([min(amount_val), max(amount_val)])\n",
    "\n",
    "sns.histplot(time_val, ax=ax[1], color='b', bins=50)\n",
    "ax[1].set_title('Distribution of Transaction Time', fontsize=14)\n",
    "ax[1].set_xlim([min(time_val), max(time_val)])\n",
    "\n",
    "plt.show()"
   ]
  },
  {
   "cell_type": "markdown",
   "metadata": {
    "id": "9V9GvhtNvtp-"
   },
   "source": [
    "### Correlation matrix"
   ]
  },
  {
   "cell_type": "code",
   "execution_count": 6,
   "metadata": {
    "colab": {
     "base_uri": "https://localhost:8080/"
    },
    "executionInfo": {
     "elapsed": 23,
     "status": "ok",
     "timestamp": 1642230978654,
     "user": {
      "displayName": "Shenghao Wang",
      "photoUrl": "https://lh3.googleusercontent.com/a-/AOh14GiT6goIzUJr_1VjpA5YJ4Uqk6hgVMG81xgsvkvgLg=s64",
      "userId": "07533046575054140568"
     },
     "user_tz": -480
    },
    "id": "c0fegShftnZ1",
    "outputId": "35eb4673-866d-4960-f308-1b9a71c9eb71"
   },
   "outputs": [
    {
     "name": "stdout",
     "output_type": "stream",
     "text": [
      "(492, 31) (284315, 31)\n",
      "(984, 31)\n"
     ]
    }
   ],
   "source": [
    "fraud_df = df.loc[df['Class'] == 1]\n",
    "non_fraud_df = df.loc[df['Class'] == 0]\n",
    "\n",
    "print(fraud_df.shape, non_fraud_df.shape)\n",
    "\n",
    "balanced_df = pd.concat([fraud_df, non_fraud_df[:fraud_df.shape[0]]])\n",
    "print(balanced_df.shape)"
   ]
  },
  {
   "cell_type": "code",
   "execution_count": 7,
   "metadata": {},
   "outputs": [
    {
     "data": {
      "image/png": "[encoded data removed]",
      "text/plain": [
       "<Figure size 1440x1152 with 2 Axes>"
      ]
     },
     "metadata": {
      "needs_background": "light"
     },
     "output_type": "display_data"
    }
   ],
   "source": [
    "import matplotlib.pyplot as plt\n",
    "import seaborn as sns\n",
    "\n",
    "\n",
    "fig, ax = plt.subplots(figsize=(20, 16))\n",
    "sub_sample_corr = balanced_df.corr()\n",
    "sns.heatmap(sub_sample_corr, cmap='coolwarm_r', annot_kws={'size':20})\n",
    "ax.set_title('SubSample Correlation Matrix', fontsize=14)\n",
    "plt.show()"
   ]
  },
  {
   "cell_type": "code",
   "execution_count": 8,
   "metadata": {
    "colab": {
     "base_uri": "https://localhost:8080/",
     "height": 1000
    },
    "executionInfo": {
     "elapsed": 3022,
     "status": "ok",
     "timestamp": 1642230981657,
     "user": {
      "displayName": "Shenghao Wang",
      "photoUrl": "https://lh3.googleusercontent.com/a-/AOh14GiT6goIzUJr_1VjpA5YJ4Uqk6hgVMG81xgsvkvgLg=s64",
      "userId": "07533046575054140568"
     },
     "user_tz": -480
    },
    "id": "e2I1DlU0dTa6",
    "outputId": "7ee0bbc8-de3a-4ff6-a260-2a5b9a29d563"
   },
   "outputs": [
    {
     "data": {
      "image/png": "[encoded data removed]",
      "text/plain": [
       "<Figure size 1728x1440 with 4 Axes>"
      ]
     },
     "metadata": {
      "needs_background": "light"
     },
     "output_type": "display_data"
    }
   ],
   "source": [
    "# Make sure we use the subsample in our correlation\n",
    "\n",
    "f, (ax1, ax2) = plt.subplots(2, 1, figsize=(24,20))\n",
    "\n",
    "# Entire DataFrame\n",
    "corr = df.corr()\n",
    "sns.heatmap(corr, cmap='coolwarm_r', annot_kws={'size':20}, ax=ax1)\n",
    "ax1.set_title(\"Imbalanced Correlation Matrix \\n (don't use for reference)\", fontsize=14)\n",
    "\n",
    "balanced_df = pd.concat([fraud_df, non_fraud_df[:fraud_df.shape[0]]])\n",
    "sub_sample_corr = balanced_df.corr()\n",
    "sns.heatmap(sub_sample_corr, cmap='coolwarm_r', annot_kws={'size':20}, ax=ax2)\n",
    "ax2.set_title('SubSample Correlation Matrix \\n (use for reference)', fontsize=14)\n",
    "plt.show()"
   ]
  },
  {
   "cell_type": "markdown",
   "metadata": {
    "id": "IVgdoG7di4zL"
   },
   "source": [
    "Observations:\n",
    "* Features positively correlated with Class: Time, V2, V4, V11, V19.\n",
    "* Features negatively correlated with Class: V1, V3, V5, V6, V7, V9, V10, V12, V14, V16, V17, V18"
   ]
  },
  {
   "cell_type": "markdown",
   "metadata": {
    "id": "I_sVkQmNxyfp"
   },
   "source": [
    "### Positively correlated features"
   ]
  },
  {
   "cell_type": "code",
   "execution_count": 9,
   "metadata": {
    "id": "As7iWAWHyn9C"
   },
   "outputs": [],
   "source": [
    "colors = [\"#0101DF\", \"#DF0101\"]"
   ]
  },
  {
   "cell_type": "code",
   "execution_count": 10,
   "metadata": {
    "colab": {
     "base_uri": "https://localhost:8080/",
     "height": 295
    },
    "executionInfo": {
     "elapsed": 23,
     "status": "ok",
     "timestamp": 1642230981659,
     "user": {
      "displayName": "Shenghao Wang",
      "photoUrl": "https://lh3.googleusercontent.com/a-/AOh14GiT6goIzUJr_1VjpA5YJ4Uqk6hgVMG81xgsvkvgLg=s64",
      "userId": "07533046575054140568"
     },
     "user_tz": -480
    },
    "id": "UqnMLnOHyK65",
    "outputId": "0ff7e0c1-e291-456b-b63d-a1a6e0788bd1"
   },
   "outputs": [
    {
     "data": {
      "image/png": "[encoded data removed]",
      "text/plain": [
       "<Figure size 1440x288 with 4 Axes>"
      ]
     },
     "metadata": {
      "needs_background": "light"
     },
     "output_type": "display_data"
    }
   ],
   "source": [
    "f, axes = plt.subplots(ncols=4, figsize=(20,4))\n",
    "\n",
    "# Positive correlations (The higher the feature the probability increases that it will be a fraud transaction)\n",
    "sns.boxplot(x=\"Class\", y=\"V2\", data=balanced_df, palette=colors, ax=axes[0])\n",
    "axes[0].set_title('V2 vs Class Positive Correlation')\n",
    "\n",
    "sns.boxplot(x=\"Class\", y=\"V4\", data=balanced_df, palette=colors, ax=axes[1])\n",
    "axes[1].set_title('V4 vs Class Positive Correlation')\n",
    "\n",
    "\n",
    "sns.boxplot(x=\"Class\", y=\"V11\", data=balanced_df, palette=colors, ax=axes[2])\n",
    "axes[2].set_title('V11 vs Class Positive Correlation')\n",
    "\n",
    "\n",
    "sns.boxplot(x=\"Class\", y=\"V19\", data=balanced_df, palette=colors, ax=axes[3])\n",
    "axes[3].set_title('V19 vs Class Positive Correlation')\n",
    "\n",
    "plt.show()"
   ]
  },
  {
   "cell_type": "markdown",
   "metadata": {
    "id": "w-yoKQxs2U9Q"
   },
   "source": [
    "### Negatively correlated features"
   ]
  },
  {
   "cell_type": "code",
   "execution_count": 11,
   "metadata": {
    "colab": {
     "base_uri": "https://localhost:8080/",
     "height": 295
    },
    "executionInfo": {
     "elapsed": 1389,
     "status": "ok",
     "timestamp": 1642230983026,
     "user": {
      "displayName": "Shenghao Wang",
      "photoUrl": "https://lh3.googleusercontent.com/a-/AOh14GiT6goIzUJr_1VjpA5YJ4Uqk6hgVMG81xgsvkvgLg=s64",
      "userId": "07533046575054140568"
     },
     "user_tz": -480
    },
    "id": "VCH7WrZoyXoc",
    "outputId": "6bb548c0-1076-4663-ce74-bad33cf5a3be"
   },
   "outputs": [
    {
     "data": {
      "image/png": "[encoded data removed]",
      "text/plain": [
       "<Figure size 1440x288 with 4 Axes>"
      ]
     },
     "metadata": {
      "needs_background": "light"
     },
     "output_type": "display_data"
    }
   ],
   "source": [
    "f, axes = plt.subplots(ncols=4, figsize=(20,4))\n",
    "\n",
    "# Negative Correlations with our Class (The lower our feature value the more likely it will be a fraud transaction)\n",
    "sns.boxplot(x=\"Class\", y=\"V10\", data=balanced_df, palette=colors, ax=axes[0])\n",
    "axes[0].set_title('V10 vs Class Negative Correlation')\n",
    "\n",
    "sns.boxplot(x=\"Class\", y=\"V12\", data=balanced_df, palette=colors, ax=axes[1])\n",
    "axes[1].set_title('V12 vs Class Negative Correlation')\n",
    "\n",
    "\n",
    "sns.boxplot(x=\"Class\", y=\"V14\", data=balanced_df, palette=colors, ax=axes[2])\n",
    "axes[2].set_title('V14 vs Class Negative Correlation')\n",
    "\n",
    "\n",
    "sns.boxplot(x=\"Class\", y=\"V17\", data=balanced_df, palette=colors, ax=axes[3])\n",
    "axes[3].set_title('V17 vs Class Negative Correlation')\n",
    "\n",
    "plt.show()"
   ]
  },
  {
   "cell_type": "markdown",
   "metadata": {
    "id": "Y0-LiK03zpSj"
   },
   "source": [
    "## Model Training"
   ]
  },
  {
   "cell_type": "markdown",
   "metadata": {
    "id": "-FTUpzOe3sTL"
   },
   "source": [
    "### Split data"
   ]
  },
  {
   "cell_type": "code",
   "execution_count": 12,
   "metadata": {
    "colab": {
     "base_uri": "https://localhost:8080/"
    },
    "executionInfo": {
     "elapsed": 19,
     "status": "ok",
     "timestamp": 1642230983030,
     "user": {
      "displayName": "Shenghao Wang",
      "photoUrl": "https://lh3.googleusercontent.com/a-/AOh14GiT6goIzUJr_1VjpA5YJ4Uqk6hgVMG81xgsvkvgLg=s64",
      "userId": "07533046575054140568"
     },
     "user_tz": -480
    },
    "id": "-U4Jni4U49Fr",
    "outputId": "fdfeff52-1a6b-4883-bdf9-5575651a8460"
   },
   "outputs": [
    {
     "name": "stdout",
     "output_type": "stream",
     "text": [
      "(199364, 30)\n",
      "(199364,)\n",
      "(85443, 30)\n",
      "(85443,)\n"
     ]
    }
   ],
   "source": [
    "from sklearn.model_selection import train_test_split\n",
    "\n",
    "\n",
    "X = df.drop('Class', axis=1)\n",
    "y = df['Class']\n",
    "X_train, X_test, y_train, y_test = train_test_split(\n",
    "    X, y, test_size=0.3, stratify=y, random_state=42\n",
    ")\n",
    "\n",
    "print(X_train.shape)\n",
    "print(y_train.shape)\n",
    "print(X_test.shape)\n",
    "print(y_test.shape)"
   ]
  },
  {
   "cell_type": "markdown",
   "metadata": {
    "id": "2YTWQt7ezDzM"
   },
   "source": [
    "### Scale features"
   ]
  },
  {
   "cell_type": "code",
   "execution_count": 13,
   "metadata": {
    "id": "e6Aqf5QczGO5"
   },
   "outputs": [],
   "source": [
    "from sklearn.preprocessing import RobustScaler\n",
    "\n",
    "\n",
    "scaler = RobustScaler()\n",
    "X_train_scaled = scaler.fit_transform(X_train)\n",
    "X_test_scaled = scaler.transform(X_test)"
   ]
  },
  {
   "cell_type": "markdown",
   "metadata": {
    "id": "xGnCshYw04M3"
   },
   "source": [
    "### Upsampling"
   ]
  },
  {
   "cell_type": "code",
   "execution_count": 14,
   "metadata": {
    "colab": {
     "base_uri": "https://localhost:8080/"
    },
    "executionInfo": {
     "elapsed": 660,
     "status": "ok",
     "timestamp": 1642230983673,
     "user": {
      "displayName": "Shenghao Wang",
      "photoUrl": "https://lh3.googleusercontent.com/a-/AOh14GiT6goIzUJr_1VjpA5YJ4Uqk6hgVMG81xgsvkvgLg=s64",
      "userId": "07533046575054140568"
     },
     "user_tz": -480
    },
    "id": "8un827f61pI2",
    "outputId": "934b985c-2dc1-41fa-fc80-765573d5cc79"
   },
   "outputs": [
    {
     "data": {
      "text/plain": [
       "((398040, 30), (398040,))"
      ]
     },
     "execution_count": 14,
     "metadata": {},
     "output_type": "execute_result"
    }
   ],
   "source": [
    "from imblearn.over_sampling import SMOTE \n",
    "\n",
    "\n",
    "sm = SMOTE(random_state=42)\n",
    "X_train_sm, y_train_sm = sm.fit_resample(X_train_scaled, y_train)\n",
    "\n",
    "X_train_sm.shape, y_train_sm.shape"
   ]
  },
  {
   "cell_type": "markdown",
   "metadata": {
    "id": "hHMCh8SR2McC"
   },
   "source": [
    "### Model training"
   ]
  },
  {
   "cell_type": "code",
   "execution_count": 15,
   "metadata": {
    "colab": {
     "base_uri": "https://localhost:8080/"
    },
    "executionInfo": {
     "elapsed": 24,
     "status": "ok",
     "timestamp": 1642230994462,
     "user": {
      "displayName": "Shenghao Wang",
      "photoUrl": "https://lh3.googleusercontent.com/a-/AOh14GiT6goIzUJr_1VjpA5YJ4Uqk6hgVMG81xgsvkvgLg=s64",
      "userId": "07533046575054140568"
     },
     "user_tz": -480
    },
    "id": "bD8HL7zF73oL",
    "outputId": "670cafc9-aceb-4f2d-874f-513ce508044c"
   },
   "outputs": [
    {
     "data": {
      "text/plain": [
       "0    199020\n",
       "1    199020\n",
       "Name: Class, dtype: int64"
      ]
     },
     "execution_count": 15,
     "metadata": {},
     "output_type": "execute_result"
    }
   ],
   "source": [
    "y_train_sm.value_counts()"
   ]
  },
  {
   "cell_type": "code",
   "execution_count": 16,
   "metadata": {
    "colab": {
     "base_uri": "https://localhost:8080/"
    },
    "executionInfo": {
     "elapsed": 19,
     "status": "ok",
     "timestamp": 1642230994462,
     "user": {
      "displayName": "Shenghao Wang",
      "photoUrl": "https://lh3.googleusercontent.com/a-/AOh14GiT6goIzUJr_1VjpA5YJ4Uqk6hgVMG81xgsvkvgLg=s64",
      "userId": "07533046575054140568"
     },
     "user_tz": -480
    },
    "id": "HUO6bojd786i",
    "outputId": "f4f69b17-6c6b-4429-f550-4651942aab1e"
   },
   "outputs": [
    {
     "data": {
      "text/plain": [
       "0    85295\n",
       "1      148\n",
       "Name: Class, dtype: int64"
      ]
     },
     "execution_count": 16,
     "metadata": {},
     "output_type": "execute_result"
    }
   ],
   "source": [
    "y_test.value_counts()"
   ]
  },
  {
   "cell_type": "code",
   "execution_count": 17,
   "metadata": {
    "colab": {
     "base_uri": "https://localhost:8080/"
    },
    "executionInfo": {
     "elapsed": 319173,
     "status": "ok",
     "timestamp": 1642233145291,
     "user": {
      "displayName": "Shenghao Wang",
      "photoUrl": "https://lh3.googleusercontent.com/a-/AOh14GiT6goIzUJr_1VjpA5YJ4Uqk6hgVMG81xgsvkvgLg=s64",
      "userId": "07533046575054140568"
     },
     "user_tz": -480
    },
    "id": "7B_5-gl52RYg",
    "outputId": "46820a28-3e7c-4da8-e42b-fd5f83daf702"
   },
   "outputs": [
    {
     "name": "stderr",
     "output_type": "stream",
     "text": [
      "/home/shenghao/Desktop/Debugging/shenghao-blogs-work/julia-traditional-ml/julia-traidtional-ml-env/lib/python3.9/site-packages/xgboost/compat.py:36: FutureWarning: pandas.Int64Index is deprecated and will be removed from pandas in a future version. Use pandas.Index with the appropriate dtype instead.\n",
      "  from pandas import MultiIndex, Int64Index\n",
      "/home/shenghao/Desktop/Debugging/shenghao-blogs-work/julia-traditional-ml/julia-traidtional-ml-env/lib/python3.9/site-packages/xgboost/sklearn.py:1224: UserWarning: The use of label encoder in XGBClassifier is deprecated and will be removed in a future release. To remove this warning, do the following: 1) Pass option use_label_encoder=False when constructing XGBClassifier object; and 2) Encode your labels (y) as integers starting with 0, i.e. 0, 1, 2, ..., [num_class - 1].\n",
      "  warnings.warn(label_encoder_deprecation_msg, UserWarning)\n"
     ]
    },
    {
     "name": "stdout",
     "output_type": "stream",
     "text": [
      "[0]\tvalidation_0-auc:0.94164\n",
      "[1]\tvalidation_0-auc:0.95178\n",
      "[2]\tvalidation_0-auc:0.95169\n",
      "[3]\tvalidation_0-auc:0.95588\n",
      "[4]\tvalidation_0-auc:0.95561\n",
      "[5]\tvalidation_0-auc:0.95410\n",
      "[6]\tvalidation_0-auc:0.95121\n",
      "[7]\tvalidation_0-auc:0.94848\n",
      "[8]\tvalidation_0-auc:0.94826\n",
      "[9]\tvalidation_0-auc:0.95091\n",
      "[10]\tvalidation_0-auc:0.96018\n",
      "[11]\tvalidation_0-auc:0.95861\n",
      "[12]\tvalidation_0-auc:0.95899\n",
      "[13]\tvalidation_0-auc:0.96183\n",
      "[14]\tvalidation_0-auc:0.96300\n",
      "[15]\tvalidation_0-auc:0.96591\n",
      "[16]\tvalidation_0-auc:0.96739\n",
      "[17]\tvalidation_0-auc:0.96851\n",
      "[18]\tvalidation_0-auc:0.96895\n",
      "[19]\tvalidation_0-auc:0.96871\n",
      "[20]\tvalidation_0-auc:0.96814\n",
      "[21]\tvalidation_0-auc:0.96846\n",
      "[22]\tvalidation_0-auc:0.96841\n",
      "[23]\tvalidation_0-auc:0.96792\n",
      "[24]\tvalidation_0-auc:0.96754\n",
      "[25]\tvalidation_0-auc:0.96773\n",
      "[26]\tvalidation_0-auc:0.96773\n",
      "[27]\tvalidation_0-auc:0.96763\n",
      "[28]\tvalidation_0-auc:0.96737\n",
      "[29]\tvalidation_0-auc:0.96750\n",
      "[30]\tvalidation_0-auc:0.96737\n",
      "[31]\tvalidation_0-auc:0.96741\n",
      "[32]\tvalidation_0-auc:0.96704\n",
      "[33]\tvalidation_0-auc:0.96726\n",
      "[34]\tvalidation_0-auc:0.96779\n",
      "[35]\tvalidation_0-auc:0.96823\n",
      "[36]\tvalidation_0-auc:0.96851\n",
      "[37]\tvalidation_0-auc:0.96825\n",
      "[38]\tvalidation_0-auc:0.96843\n",
      "[39]\tvalidation_0-auc:0.96805\n",
      "[40]\tvalidation_0-auc:0.96823\n",
      "[41]\tvalidation_0-auc:0.96802\n",
      "[42]\tvalidation_0-auc:0.96778\n",
      "[43]\tvalidation_0-auc:0.96853\n",
      "[44]\tvalidation_0-auc:0.96831\n",
      "[45]\tvalidation_0-auc:0.96845\n",
      "[46]\tvalidation_0-auc:0.96777\n",
      "[47]\tvalidation_0-auc:0.96682\n",
      "[48]\tvalidation_0-auc:0.96657\n",
      "[49]\tvalidation_0-auc:0.96537\n",
      "[50]\tvalidation_0-auc:0.96552\n",
      "[51]\tvalidation_0-auc:0.96526\n",
      "[52]\tvalidation_0-auc:0.96538\n",
      "[53]\tvalidation_0-auc:0.96487\n",
      "[54]\tvalidation_0-auc:0.96549\n",
      "[55]\tvalidation_0-auc:0.96488\n",
      "[56]\tvalidation_0-auc:0.96579\n",
      "[57]\tvalidation_0-auc:0.96724\n",
      "[58]\tvalidation_0-auc:0.96803\n",
      "[59]\tvalidation_0-auc:0.96845\n",
      "[60]\tvalidation_0-auc:0.96887\n",
      "[61]\tvalidation_0-auc:0.96835\n",
      "[62]\tvalidation_0-auc:0.96874\n",
      "[63]\tvalidation_0-auc:0.96832\n",
      "[64]\tvalidation_0-auc:0.96876\n",
      "[65]\tvalidation_0-auc:0.96859\n",
      "[66]\tvalidation_0-auc:0.96827\n",
      "[67]\tvalidation_0-auc:0.96832\n",
      "[68]\tvalidation_0-auc:0.96827\n",
      "[69]\tvalidation_0-auc:0.96797\n",
      "[70]\tvalidation_0-auc:0.96860\n",
      "[71]\tvalidation_0-auc:0.96891\n",
      "[72]\tvalidation_0-auc:0.96848\n",
      "[73]\tvalidation_0-auc:0.96854\n",
      "[74]\tvalidation_0-auc:0.96893\n",
      "[75]\tvalidation_0-auc:0.96879\n",
      "[76]\tvalidation_0-auc:0.96892\n",
      "[77]\tvalidation_0-auc:0.96964\n",
      "[78]\tvalidation_0-auc:0.97023\n",
      "[79]\tvalidation_0-auc:0.97024\n",
      "[80]\tvalidation_0-auc:0.97003\n",
      "[81]\tvalidation_0-auc:0.97009\n",
      "[82]\tvalidation_0-auc:0.97009\n",
      "[83]\tvalidation_0-auc:0.97035\n",
      "[84]\tvalidation_0-auc:0.97009\n",
      "[85]\tvalidation_0-auc:0.96984\n",
      "[86]\tvalidation_0-auc:0.96978\n",
      "[87]\tvalidation_0-auc:0.96979\n",
      "[88]\tvalidation_0-auc:0.96997\n",
      "[89]\tvalidation_0-auc:0.97004\n",
      "[90]\tvalidation_0-auc:0.97004\n",
      "[91]\tvalidation_0-auc:0.96982\n",
      "[92]\tvalidation_0-auc:0.96988\n",
      "[93]\tvalidation_0-auc:0.97013\n",
      "[94]\tvalidation_0-auc:0.97051\n",
      "[95]\tvalidation_0-auc:0.97049\n",
      "[96]\tvalidation_0-auc:0.97080\n",
      "[97]\tvalidation_0-auc:0.97074\n",
      "[98]\tvalidation_0-auc:0.97098\n",
      "[99]\tvalidation_0-auc:0.97113\n",
      "[100]\tvalidation_0-auc:0.97129\n",
      "[101]\tvalidation_0-auc:0.97103\n",
      "[102]\tvalidation_0-auc:0.97145\n",
      "[103]\tvalidation_0-auc:0.97118\n",
      "[104]\tvalidation_0-auc:0.97133\n",
      "[105]\tvalidation_0-auc:0.97131\n",
      "[106]\tvalidation_0-auc:0.97144\n",
      "[107]\tvalidation_0-auc:0.97139\n",
      "[108]\tvalidation_0-auc:0.97148\n",
      "[109]\tvalidation_0-auc:0.97162\n",
      "[110]\tvalidation_0-auc:0.97182\n",
      "[111]\tvalidation_0-auc:0.97224\n",
      "[112]\tvalidation_0-auc:0.97246\n",
      "[113]\tvalidation_0-auc:0.97262\n",
      "[114]\tvalidation_0-auc:0.97269\n",
      "[115]\tvalidation_0-auc:0.97260\n",
      "[116]\tvalidation_0-auc:0.97284\n",
      "[117]\tvalidation_0-auc:0.97292\n",
      "[118]\tvalidation_0-auc:0.97302\n",
      "[119]\tvalidation_0-auc:0.97287\n",
      "[120]\tvalidation_0-auc:0.97265\n",
      "[121]\tvalidation_0-auc:0.97257\n",
      "[122]\tvalidation_0-auc:0.97280\n",
      "[123]\tvalidation_0-auc:0.97267\n",
      "[124]\tvalidation_0-auc:0.97282\n",
      "[125]\tvalidation_0-auc:0.97275\n",
      "[126]\tvalidation_0-auc:0.97312\n",
      "[127]\tvalidation_0-auc:0.97292\n",
      "[128]\tvalidation_0-auc:0.97288\n",
      "[129]\tvalidation_0-auc:0.97300\n",
      "[130]\tvalidation_0-auc:0.97327\n",
      "[131]\tvalidation_0-auc:0.97318\n",
      "[132]\tvalidation_0-auc:0.97340\n",
      "[133]\tvalidation_0-auc:0.97362\n",
      "[134]\tvalidation_0-auc:0.97357\n",
      "[135]\tvalidation_0-auc:0.97366\n",
      "[136]\tvalidation_0-auc:0.97388\n",
      "[137]\tvalidation_0-auc:0.97413\n",
      "[138]\tvalidation_0-auc:0.97405\n",
      "[139]\tvalidation_0-auc:0.97432\n",
      "[140]\tvalidation_0-auc:0.97433\n",
      "[141]\tvalidation_0-auc:0.97443\n",
      "[142]\tvalidation_0-auc:0.97450\n",
      "[143]\tvalidation_0-auc:0.97459\n",
      "[144]\tvalidation_0-auc:0.97469\n",
      "[145]\tvalidation_0-auc:0.97499\n",
      "[146]\tvalidation_0-auc:0.97499\n",
      "[147]\tvalidation_0-auc:0.97501\n",
      "[148]\tvalidation_0-auc:0.97509\n",
      "[149]\tvalidation_0-auc:0.97504\n",
      "[150]\tvalidation_0-auc:0.97503\n",
      "[151]\tvalidation_0-auc:0.97514\n",
      "[152]\tvalidation_0-auc:0.97503\n",
      "[153]\tvalidation_0-auc:0.97497\n",
      "[154]\tvalidation_0-auc:0.97490\n",
      "[155]\tvalidation_0-auc:0.97488\n",
      "[156]\tvalidation_0-auc:0.97484\n",
      "[157]\tvalidation_0-auc:0.97481\n",
      "[158]\tvalidation_0-auc:0.97497\n",
      "[159]\tvalidation_0-auc:0.97520\n",
      "[160]\tvalidation_0-auc:0.97504\n",
      "[161]\tvalidation_0-auc:0.97522\n",
      "[162]\tvalidation_0-auc:0.97516\n",
      "[163]\tvalidation_0-auc:0.97515\n",
      "[164]\tvalidation_0-auc:0.97499\n",
      "[165]\tvalidation_0-auc:0.97486\n",
      "[166]\tvalidation_0-auc:0.97471\n",
      "[167]\tvalidation_0-auc:0.97487\n",
      "[168]\tvalidation_0-auc:0.97486\n",
      "[169]\tvalidation_0-auc:0.97503\n",
      "[170]\tvalidation_0-auc:0.97484\n",
      "[171]\tvalidation_0-auc:0.97480\n",
      "[172]\tvalidation_0-auc:0.97453\n",
      "[173]\tvalidation_0-auc:0.97465\n",
      "[174]\tvalidation_0-auc:0.97474\n",
      "[175]\tvalidation_0-auc:0.97465\n",
      "[176]\tvalidation_0-auc:0.97465\n",
      "[177]\tvalidation_0-auc:0.97452\n",
      "[178]\tvalidation_0-auc:0.97462\n",
      "[179]\tvalidation_0-auc:0.97470\n",
      "[180]\tvalidation_0-auc:0.97475\n",
      "[181]\tvalidation_0-auc:0.97458\n",
      "[182]\tvalidation_0-auc:0.97462\n",
      "[183]\tvalidation_0-auc:0.97465\n",
      "[184]\tvalidation_0-auc:0.97430\n",
      "[185]\tvalidation_0-auc:0.97447\n",
      "[186]\tvalidation_0-auc:0.97450\n",
      "[187]\tvalidation_0-auc:0.97459\n",
      "[188]\tvalidation_0-auc:0.97461\n",
      "[189]\tvalidation_0-auc:0.97467\n",
      "[190]\tvalidation_0-auc:0.97452\n",
      "[191]\tvalidation_0-auc:0.97442\n",
      "[192]\tvalidation_0-auc:0.97450\n",
      "[193]\tvalidation_0-auc:0.97433\n",
      "[194]\tvalidation_0-auc:0.97427\n",
      "[195]\tvalidation_0-auc:0.97434\n",
      "[196]\tvalidation_0-auc:0.97419\n",
      "[197]\tvalidation_0-auc:0.97440\n",
      "[198]\tvalidation_0-auc:0.97437\n",
      "[199]\tvalidation_0-auc:0.97449\n",
      "[200]\tvalidation_0-auc:0.97445\n",
      "[201]\tvalidation_0-auc:0.97444\n",
      "[202]\tvalidation_0-auc:0.97429\n",
      "[203]\tvalidation_0-auc:0.97416\n",
      "[204]\tvalidation_0-auc:0.97418\n",
      "[205]\tvalidation_0-auc:0.97408\n",
      "[206]\tvalidation_0-auc:0.97416\n",
      "[207]\tvalidation_0-auc:0.97423\n",
      "[208]\tvalidation_0-auc:0.97428\n",
      "[209]\tvalidation_0-auc:0.97438\n",
      "[210]\tvalidation_0-auc:0.97437\n",
      "[211]\tvalidation_0-auc:0.97438\n",
      "[212]\tvalidation_0-auc:0.97437\n",
      "[213]\tvalidation_0-auc:0.97454\n",
      "[214]\tvalidation_0-auc:0.97449\n",
      "[215]\tvalidation_0-auc:0.97464\n",
      "[216]\tvalidation_0-auc:0.97466\n",
      "[217]\tvalidation_0-auc:0.97475\n",
      "[218]\tvalidation_0-auc:0.97471\n",
      "[219]\tvalidation_0-auc:0.97487\n",
      "[220]\tvalidation_0-auc:0.97500\n",
      "[221]\tvalidation_0-auc:0.97493\n",
      "[222]\tvalidation_0-auc:0.97495\n",
      "[223]\tvalidation_0-auc:0.97497\n",
      "[224]\tvalidation_0-auc:0.97502\n",
      "[225]\tvalidation_0-auc:0.97495\n",
      "[226]\tvalidation_0-auc:0.97488\n",
      "[227]\tvalidation_0-auc:0.97490\n",
      "[228]\tvalidation_0-auc:0.97506\n",
      "[229]\tvalidation_0-auc:0.97506\n",
      "[230]\tvalidation_0-auc:0.97494\n",
      "[231]\tvalidation_0-auc:0.97499\n",
      "[232]\tvalidation_0-auc:0.97485\n",
      "[233]\tvalidation_0-auc:0.97488\n",
      "[234]\tvalidation_0-auc:0.97493\n",
      "[235]\tvalidation_0-auc:0.97481\n",
      "[236]\tvalidation_0-auc:0.97469\n",
      "[237]\tvalidation_0-auc:0.97472\n",
      "[238]\tvalidation_0-auc:0.97476\n",
      "[239]\tvalidation_0-auc:0.97491\n",
      "[240]\tvalidation_0-auc:0.97479\n",
      "[241]\tvalidation_0-auc:0.97477\n",
      "[242]\tvalidation_0-auc:0.97477\n",
      "[243]\tvalidation_0-auc:0.97469\n",
      "[244]\tvalidation_0-auc:0.97472\n",
      "[245]\tvalidation_0-auc:0.97467\n",
      "[246]\tvalidation_0-auc:0.97474\n",
      "[247]\tvalidation_0-auc:0.97484\n",
      "[248]\tvalidation_0-auc:0.97498\n",
      "[249]\tvalidation_0-auc:0.97502\n",
      "[250]\tvalidation_0-auc:0.97502\n",
      "[251]\tvalidation_0-auc:0.97492\n",
      "[252]\tvalidation_0-auc:0.97487\n",
      "[253]\tvalidation_0-auc:0.97496\n",
      "[254]\tvalidation_0-auc:0.97496\n",
      "[255]\tvalidation_0-auc:0.97500\n",
      "[256]\tvalidation_0-auc:0.97498\n",
      "[257]\tvalidation_0-auc:0.97503\n",
      "[258]\tvalidation_0-auc:0.97518\n",
      "[259]\tvalidation_0-auc:0.97529\n",
      "[260]\tvalidation_0-auc:0.97530\n",
      "[261]\tvalidation_0-auc:0.97523\n",
      "[262]\tvalidation_0-auc:0.97515\n",
      "[263]\tvalidation_0-auc:0.97509\n",
      "[264]\tvalidation_0-auc:0.97509\n",
      "[265]\tvalidation_0-auc:0.97509\n",
      "[266]\tvalidation_0-auc:0.97519\n",
      "[267]\tvalidation_0-auc:0.97509\n",
      "[268]\tvalidation_0-auc:0.97508\n",
      "[269]\tvalidation_0-auc:0.97511\n",
      "[270]\tvalidation_0-auc:0.97518\n",
      "[271]\tvalidation_0-auc:0.97522\n",
      "[272]\tvalidation_0-auc:0.97511\n",
      "[273]\tvalidation_0-auc:0.97511\n",
      "[274]\tvalidation_0-auc:0.97504\n",
      "[275]\tvalidation_0-auc:0.97506\n",
      "[276]\tvalidation_0-auc:0.97511\n",
      "[277]\tvalidation_0-auc:0.97505\n",
      "[278]\tvalidation_0-auc:0.97513\n",
      "[279]\tvalidation_0-auc:0.97522\n",
      "[280]\tvalidation_0-auc:0.97527\n",
      "[281]\tvalidation_0-auc:0.97520\n",
      "[282]\tvalidation_0-auc:0.97524\n",
      "[283]\tvalidation_0-auc:0.97520\n",
      "[284]\tvalidation_0-auc:0.97527\n",
      "[285]\tvalidation_0-auc:0.97526\n",
      "[286]\tvalidation_0-auc:0.97520\n",
      "[287]\tvalidation_0-auc:0.97522\n",
      "[288]\tvalidation_0-auc:0.97533\n",
      "[289]\tvalidation_0-auc:0.97531\n",
      "[290]\tvalidation_0-auc:0.97530\n",
      "[291]\tvalidation_0-auc:0.97531\n",
      "[292]\tvalidation_0-auc:0.97528\n",
      "[293]\tvalidation_0-auc:0.97529\n",
      "[294]\tvalidation_0-auc:0.97517\n",
      "[295]\tvalidation_0-auc:0.97528\n",
      "[296]\tvalidation_0-auc:0.97540\n",
      "[297]\tvalidation_0-auc:0.97554\n",
      "[298]\tvalidation_0-auc:0.97557\n",
      "[299]\tvalidation_0-auc:0.97560\n",
      "[300]\tvalidation_0-auc:0.97570\n",
      "[301]\tvalidation_0-auc:0.97555\n",
      "[302]\tvalidation_0-auc:0.97562\n",
      "[303]\tvalidation_0-auc:0.97561\n",
      "[304]\tvalidation_0-auc:0.97560\n",
      "[305]\tvalidation_0-auc:0.97561\n",
      "[306]\tvalidation_0-auc:0.97563\n",
      "[307]\tvalidation_0-auc:0.97566\n",
      "[308]\tvalidation_0-auc:0.97557\n",
      "[309]\tvalidation_0-auc:0.97548\n",
      "[310]\tvalidation_0-auc:0.97555\n",
      "[311]\tvalidation_0-auc:0.97561\n",
      "[312]\tvalidation_0-auc:0.97554\n",
      "[313]\tvalidation_0-auc:0.97550\n",
      "[314]\tvalidation_0-auc:0.97550\n",
      "[315]\tvalidation_0-auc:0.97558\n",
      "[316]\tvalidation_0-auc:0.97560\n",
      "[317]\tvalidation_0-auc:0.97558\n",
      "[318]\tvalidation_0-auc:0.97552\n",
      "[319]\tvalidation_0-auc:0.97540\n",
      "[320]\tvalidation_0-auc:0.97535\n",
      "[321]\tvalidation_0-auc:0.97530\n",
      "[322]\tvalidation_0-auc:0.97540\n",
      "[323]\tvalidation_0-auc:0.97549\n",
      "[324]\tvalidation_0-auc:0.97559\n",
      "[325]\tvalidation_0-auc:0.97559\n",
      "[326]\tvalidation_0-auc:0.97562\n",
      "[327]\tvalidation_0-auc:0.97559\n",
      "[328]\tvalidation_0-auc:0.97571\n",
      "[329]\tvalidation_0-auc:0.97567\n",
      "[330]\tvalidation_0-auc:0.97568\n",
      "[331]\tvalidation_0-auc:0.97560\n",
      "[332]\tvalidation_0-auc:0.97575\n",
      "[333]\tvalidation_0-auc:0.97574\n",
      "[334]\tvalidation_0-auc:0.97574\n",
      "[335]\tvalidation_0-auc:0.97574\n",
      "[336]\tvalidation_0-auc:0.97569\n",
      "[337]\tvalidation_0-auc:0.97581\n",
      "[338]\tvalidation_0-auc:0.97583\n",
      "[339]\tvalidation_0-auc:0.97581\n",
      "[340]\tvalidation_0-auc:0.97576\n",
      "[341]\tvalidation_0-auc:0.97572\n",
      "[342]\tvalidation_0-auc:0.97562\n",
      "[343]\tvalidation_0-auc:0.97563\n",
      "[344]\tvalidation_0-auc:0.97566\n",
      "[345]\tvalidation_0-auc:0.97565\n",
      "[346]\tvalidation_0-auc:0.97574\n",
      "[347]\tvalidation_0-auc:0.97571\n",
      "[348]\tvalidation_0-auc:0.97574\n",
      "[349]\tvalidation_0-auc:0.97569\n",
      "[350]\tvalidation_0-auc:0.97561\n",
      "[351]\tvalidation_0-auc:0.97564\n",
      "[352]\tvalidation_0-auc:0.97562\n",
      "[353]\tvalidation_0-auc:0.97564\n",
      "[354]\tvalidation_0-auc:0.97574\n",
      "[355]\tvalidation_0-auc:0.97565\n",
      "[356]\tvalidation_0-auc:0.97563\n",
      "[357]\tvalidation_0-auc:0.97563\n",
      "[358]\tvalidation_0-auc:0.97562\n",
      "[359]\tvalidation_0-auc:0.97562\n",
      "[360]\tvalidation_0-auc:0.97562\n",
      "[361]\tvalidation_0-auc:0.97565\n",
      "[362]\tvalidation_0-auc:0.97571\n",
      "[363]\tvalidation_0-auc:0.97566\n",
      "[364]\tvalidation_0-auc:0.97565\n",
      "[365]\tvalidation_0-auc:0.97573\n",
      "[366]\tvalidation_0-auc:0.97569\n",
      "[367]\tvalidation_0-auc:0.97567\n",
      "[368]\tvalidation_0-auc:0.97571\n",
      "[369]\tvalidation_0-auc:0.97571\n",
      "[370]\tvalidation_0-auc:0.97585\n",
      "[371]\tvalidation_0-auc:0.97584\n",
      "[372]\tvalidation_0-auc:0.97585\n",
      "[373]\tvalidation_0-auc:0.97585\n",
      "[374]\tvalidation_0-auc:0.97576\n",
      "[375]\tvalidation_0-auc:0.97583\n",
      "[376]\tvalidation_0-auc:0.97583\n",
      "[377]\tvalidation_0-auc:0.97574\n",
      "[378]\tvalidation_0-auc:0.97568\n",
      "[379]\tvalidation_0-auc:0.97573\n",
      "[380]\tvalidation_0-auc:0.97575\n",
      "[381]\tvalidation_0-auc:0.97573\n",
      "[382]\tvalidation_0-auc:0.97570\n",
      "[383]\tvalidation_0-auc:0.97563\n",
      "[384]\tvalidation_0-auc:0.97569\n",
      "[385]\tvalidation_0-auc:0.97568\n",
      "[386]\tvalidation_0-auc:0.97570\n",
      "[387]\tvalidation_0-auc:0.97570\n",
      "[388]\tvalidation_0-auc:0.97568\n",
      "[389]\tvalidation_0-auc:0.97576\n",
      "[390]\tvalidation_0-auc:0.97576\n",
      "[391]\tvalidation_0-auc:0.97577\n",
      "[392]\tvalidation_0-auc:0.97573\n",
      "[393]\tvalidation_0-auc:0.97572\n",
      "[394]\tvalidation_0-auc:0.97568\n",
      "[395]\tvalidation_0-auc:0.97567\n",
      "[396]\tvalidation_0-auc:0.97569\n",
      "[397]\tvalidation_0-auc:0.97571\n",
      "[398]\tvalidation_0-auc:0.97579\n",
      "[399]\tvalidation_0-auc:0.97579\n",
      "[400]\tvalidation_0-auc:0.97580\n",
      "[401]\tvalidation_0-auc:0.97577\n",
      "[402]\tvalidation_0-auc:0.97577\n",
      "[403]\tvalidation_0-auc:0.97574\n",
      "[404]\tvalidation_0-auc:0.97580\n",
      "[405]\tvalidation_0-auc:0.97586\n",
      "[406]\tvalidation_0-auc:0.97585\n",
      "[407]\tvalidation_0-auc:0.97587\n",
      "[408]\tvalidation_0-auc:0.97586\n",
      "[409]\tvalidation_0-auc:0.97577\n",
      "[410]\tvalidation_0-auc:0.97576\n",
      "[411]\tvalidation_0-auc:0.97571\n",
      "[412]\tvalidation_0-auc:0.97567\n",
      "[413]\tvalidation_0-auc:0.97567\n",
      "[414]\tvalidation_0-auc:0.97564\n",
      "[415]\tvalidation_0-auc:0.97569\n",
      "[416]\tvalidation_0-auc:0.97572\n",
      "[417]\tvalidation_0-auc:0.97576\n",
      "[418]\tvalidation_0-auc:0.97580\n",
      "[419]\tvalidation_0-auc:0.97584\n",
      "[420]\tvalidation_0-auc:0.97591\n",
      "[421]\tvalidation_0-auc:0.97592\n",
      "[422]\tvalidation_0-auc:0.97594\n",
      "[423]\tvalidation_0-auc:0.97596\n",
      "[424]\tvalidation_0-auc:0.97594\n",
      "[425]\tvalidation_0-auc:0.97608\n",
      "[426]\tvalidation_0-auc:0.97613\n",
      "[427]\tvalidation_0-auc:0.97613\n",
      "[428]\tvalidation_0-auc:0.97609\n",
      "[429]\tvalidation_0-auc:0.97609\n",
      "[430]\tvalidation_0-auc:0.97606\n",
      "[431]\tvalidation_0-auc:0.97611\n",
      "[432]\tvalidation_0-auc:0.97613\n",
      "[433]\tvalidation_0-auc:0.97616\n",
      "[434]\tvalidation_0-auc:0.97615\n",
      "[435]\tvalidation_0-auc:0.97617\n",
      "[436]\tvalidation_0-auc:0.97613\n",
      "[437]\tvalidation_0-auc:0.97618\n",
      "[438]\tvalidation_0-auc:0.97609\n",
      "[439]\tvalidation_0-auc:0.97610\n",
      "[440]\tvalidation_0-auc:0.97614\n",
      "[441]\tvalidation_0-auc:0.97616\n",
      "[442]\tvalidation_0-auc:0.97613\n",
      "[443]\tvalidation_0-auc:0.97619\n",
      "[444]\tvalidation_0-auc:0.97625\n",
      "[445]\tvalidation_0-auc:0.97628\n",
      "[446]\tvalidation_0-auc:0.97625\n",
      "[447]\tvalidation_0-auc:0.97622\n",
      "[448]\tvalidation_0-auc:0.97619\n",
      "[449]\tvalidation_0-auc:0.97617\n",
      "[450]\tvalidation_0-auc:0.97613\n",
      "[451]\tvalidation_0-auc:0.97613\n",
      "[452]\tvalidation_0-auc:0.97610\n",
      "[453]\tvalidation_0-auc:0.97607\n",
      "[454]\tvalidation_0-auc:0.97608\n",
      "[455]\tvalidation_0-auc:0.97615\n",
      "[456]\tvalidation_0-auc:0.97612\n",
      "[457]\tvalidation_0-auc:0.97615\n",
      "[458]\tvalidation_0-auc:0.97617\n",
      "[459]\tvalidation_0-auc:0.97619\n",
      "[460]\tvalidation_0-auc:0.97616\n",
      "[461]\tvalidation_0-auc:0.97613\n",
      "[462]\tvalidation_0-auc:0.97615\n",
      "[463]\tvalidation_0-auc:0.97619\n",
      "[464]\tvalidation_0-auc:0.97618\n",
      "[465]\tvalidation_0-auc:0.97617\n",
      "[466]\tvalidation_0-auc:0.97617\n",
      "[467]\tvalidation_0-auc:0.97616\n",
      "[468]\tvalidation_0-auc:0.97613\n",
      "[469]\tvalidation_0-auc:0.97614\n",
      "[470]\tvalidation_0-auc:0.97612\n",
      "[471]\tvalidation_0-auc:0.97619\n",
      "[472]\tvalidation_0-auc:0.97613\n",
      "[473]\tvalidation_0-auc:0.97611\n",
      "[474]\tvalidation_0-auc:0.97610\n",
      "[475]\tvalidation_0-auc:0.97614\n",
      "[476]\tvalidation_0-auc:0.97621\n",
      "[477]\tvalidation_0-auc:0.97622\n",
      "[478]\tvalidation_0-auc:0.97620\n",
      "[479]\tvalidation_0-auc:0.97619\n",
      "[480]\tvalidation_0-auc:0.97618\n",
      "[481]\tvalidation_0-auc:0.97618\n",
      "[482]\tvalidation_0-auc:0.97617\n",
      "[483]\tvalidation_0-auc:0.97619\n",
      "[484]\tvalidation_0-auc:0.97620\n",
      "[485]\tvalidation_0-auc:0.97625\n",
      "[486]\tvalidation_0-auc:0.97628\n",
      "[487]\tvalidation_0-auc:0.97626\n",
      "[488]\tvalidation_0-auc:0.97630\n",
      "[489]\tvalidation_0-auc:0.97635\n",
      "[490]\tvalidation_0-auc:0.97631\n",
      "[491]\tvalidation_0-auc:0.97628\n",
      "[492]\tvalidation_0-auc:0.97634\n",
      "[493]\tvalidation_0-auc:0.97630\n",
      "[494]\tvalidation_0-auc:0.97633\n",
      "[495]\tvalidation_0-auc:0.97635\n",
      "[496]\tvalidation_0-auc:0.97633\n",
      "[497]\tvalidation_0-auc:0.97629\n",
      "[498]\tvalidation_0-auc:0.97633\n",
      "[499]\tvalidation_0-auc:0.97637\n",
      "[500]\tvalidation_0-auc:0.97634\n",
      "[501]\tvalidation_0-auc:0.97638\n",
      "[502]\tvalidation_0-auc:0.97635\n",
      "[503]\tvalidation_0-auc:0.97633\n",
      "[504]\tvalidation_0-auc:0.97636\n",
      "[505]\tvalidation_0-auc:0.97638\n",
      "[506]\tvalidation_0-auc:0.97639\n",
      "[507]\tvalidation_0-auc:0.97644\n",
      "[508]\tvalidation_0-auc:0.97645\n",
      "[509]\tvalidation_0-auc:0.97642\n",
      "[510]\tvalidation_0-auc:0.97642\n",
      "[511]\tvalidation_0-auc:0.97637\n",
      "[512]\tvalidation_0-auc:0.97634\n",
      "[513]\tvalidation_0-auc:0.97634\n",
      "[514]\tvalidation_0-auc:0.97633\n",
      "[515]\tvalidation_0-auc:0.97626\n",
      "[516]\tvalidation_0-auc:0.97627\n",
      "[517]\tvalidation_0-auc:0.97627\n",
      "[518]\tvalidation_0-auc:0.97623\n",
      "[519]\tvalidation_0-auc:0.97623\n",
      "[520]\tvalidation_0-auc:0.97623\n",
      "[521]\tvalidation_0-auc:0.97623\n",
      "[522]\tvalidation_0-auc:0.97625\n",
      "[523]\tvalidation_0-auc:0.97623\n",
      "[524]\tvalidation_0-auc:0.97623\n",
      "[525]\tvalidation_0-auc:0.97625\n",
      "[526]\tvalidation_0-auc:0.97622\n",
      "[527]\tvalidation_0-auc:0.97618\n",
      "[528]\tvalidation_0-auc:0.97622\n",
      "[529]\tvalidation_0-auc:0.97618\n",
      "[530]\tvalidation_0-auc:0.97618\n",
      "[531]\tvalidation_0-auc:0.97622\n",
      "[532]\tvalidation_0-auc:0.97618\n",
      "[533]\tvalidation_0-auc:0.97623\n",
      "[534]\tvalidation_0-auc:0.97619\n",
      "[535]\tvalidation_0-auc:0.97616\n",
      "[536]\tvalidation_0-auc:0.97612\n",
      "[537]\tvalidation_0-auc:0.97611\n",
      "[538]\tvalidation_0-auc:0.97609\n",
      "[539]\tvalidation_0-auc:0.97610\n",
      "[540]\tvalidation_0-auc:0.97609\n",
      "[541]\tvalidation_0-auc:0.97617\n",
      "[542]\tvalidation_0-auc:0.97617\n",
      "[543]\tvalidation_0-auc:0.97619\n",
      "[544]\tvalidation_0-auc:0.97624\n",
      "[545]\tvalidation_0-auc:0.97627\n",
      "[546]\tvalidation_0-auc:0.97629\n",
      "[547]\tvalidation_0-auc:0.97631\n",
      "[548]\tvalidation_0-auc:0.97635\n",
      "[549]\tvalidation_0-auc:0.97634\n",
      "[550]\tvalidation_0-auc:0.97632\n",
      "[551]\tvalidation_0-auc:0.97634\n",
      "[552]\tvalidation_0-auc:0.97637\n",
      "[553]\tvalidation_0-auc:0.97636\n",
      "[554]\tvalidation_0-auc:0.97635\n",
      "[555]\tvalidation_0-auc:0.97638\n",
      "[556]\tvalidation_0-auc:0.97637\n",
      "[557]\tvalidation_0-auc:0.97637\n",
      "[558]\tvalidation_0-auc:0.97640\n",
      "[559]\tvalidation_0-auc:0.97636\n",
      "[560]\tvalidation_0-auc:0.97637\n",
      "[561]\tvalidation_0-auc:0.97639\n",
      "[562]\tvalidation_0-auc:0.97634\n",
      "[563]\tvalidation_0-auc:0.97635\n",
      "[564]\tvalidation_0-auc:0.97640\n",
      "[565]\tvalidation_0-auc:0.97642\n",
      "[566]\tvalidation_0-auc:0.97640\n",
      "[567]\tvalidation_0-auc:0.97641\n",
      "[568]\tvalidation_0-auc:0.97641\n",
      "[569]\tvalidation_0-auc:0.97638\n",
      "[570]\tvalidation_0-auc:0.97635\n",
      "[571]\tvalidation_0-auc:0.97635\n",
      "[572]\tvalidation_0-auc:0.97634\n",
      "[573]\tvalidation_0-auc:0.97633\n",
      "[574]\tvalidation_0-auc:0.97633\n",
      "[575]\tvalidation_0-auc:0.97635\n",
      "[576]\tvalidation_0-auc:0.97631\n",
      "[577]\tvalidation_0-auc:0.97636\n",
      "[578]\tvalidation_0-auc:0.97642\n",
      "[579]\tvalidation_0-auc:0.97640\n",
      "[580]\tvalidation_0-auc:0.97643\n",
      "[581]\tvalidation_0-auc:0.97640\n",
      "[582]\tvalidation_0-auc:0.97637\n",
      "[583]\tvalidation_0-auc:0.97637\n",
      "[584]\tvalidation_0-auc:0.97635\n",
      "[585]\tvalidation_0-auc:0.97634\n",
      "[586]\tvalidation_0-auc:0.97633\n",
      "[587]\tvalidation_0-auc:0.97632\n",
      "[588]\tvalidation_0-auc:0.97631\n",
      "[589]\tvalidation_0-auc:0.97632\n",
      "[590]\tvalidation_0-auc:0.97633\n",
      "[591]\tvalidation_0-auc:0.97639\n",
      "[592]\tvalidation_0-auc:0.97642\n",
      "[593]\tvalidation_0-auc:0.97642\n",
      "[594]\tvalidation_0-auc:0.97641\n",
      "[595]\tvalidation_0-auc:0.97638\n",
      "[596]\tvalidation_0-auc:0.97642\n",
      "[597]\tvalidation_0-auc:0.97641\n",
      "[598]\tvalidation_0-auc:0.97642\n",
      "[599]\tvalidation_0-auc:0.97640\n",
      "[600]\tvalidation_0-auc:0.97642\n",
      "[601]\tvalidation_0-auc:0.97640\n",
      "[602]\tvalidation_0-auc:0.97642\n",
      "[603]\tvalidation_0-auc:0.97641\n",
      "[604]\tvalidation_0-auc:0.97643\n",
      "[605]\tvalidation_0-auc:0.97643\n",
      "[606]\tvalidation_0-auc:0.97644\n",
      "[607]\tvalidation_0-auc:0.97645\n",
      "[608]\tvalidation_0-auc:0.97644\n",
      "[609]\tvalidation_0-auc:0.97646\n",
      "[610]\tvalidation_0-auc:0.97644\n",
      "[611]\tvalidation_0-auc:0.97647\n",
      "[612]\tvalidation_0-auc:0.97647\n",
      "[613]\tvalidation_0-auc:0.97646\n",
      "[614]\tvalidation_0-auc:0.97647\n",
      "[615]\tvalidation_0-auc:0.97647\n",
      "[616]\tvalidation_0-auc:0.97646\n",
      "[617]\tvalidation_0-auc:0.97643\n",
      "[618]\tvalidation_0-auc:0.97641\n",
      "[619]\tvalidation_0-auc:0.97642\n",
      "[620]\tvalidation_0-auc:0.97645\n",
      "[621]\tvalidation_0-auc:0.97646\n",
      "[622]\tvalidation_0-auc:0.97645\n",
      "[623]\tvalidation_0-auc:0.97649\n",
      "[624]\tvalidation_0-auc:0.97649\n",
      "[625]\tvalidation_0-auc:0.97648\n",
      "[626]\tvalidation_0-auc:0.97648\n",
      "[627]\tvalidation_0-auc:0.97648\n",
      "[628]\tvalidation_0-auc:0.97650\n",
      "[629]\tvalidation_0-auc:0.97650\n",
      "[630]\tvalidation_0-auc:0.97651\n",
      "[631]\tvalidation_0-auc:0.97655\n",
      "[632]\tvalidation_0-auc:0.97658\n",
      "[633]\tvalidation_0-auc:0.97659\n",
      "[634]\tvalidation_0-auc:0.97658\n",
      "[635]\tvalidation_0-auc:0.97659\n",
      "[636]\tvalidation_0-auc:0.97660\n",
      "[637]\tvalidation_0-auc:0.97661\n",
      "[638]\tvalidation_0-auc:0.97661\n",
      "[639]\tvalidation_0-auc:0.97661\n",
      "[640]\tvalidation_0-auc:0.97659\n",
      "[641]\tvalidation_0-auc:0.97660\n",
      "[642]\tvalidation_0-auc:0.97662\n",
      "[643]\tvalidation_0-auc:0.97662\n",
      "[644]\tvalidation_0-auc:0.97662\n",
      "[645]\tvalidation_0-auc:0.97662\n",
      "[646]\tvalidation_0-auc:0.97662\n",
      "[647]\tvalidation_0-auc:0.97664\n",
      "[648]\tvalidation_0-auc:0.97669\n",
      "[649]\tvalidation_0-auc:0.97670\n",
      "[650]\tvalidation_0-auc:0.97669\n",
      "[651]\tvalidation_0-auc:0.97667\n",
      "[652]\tvalidation_0-auc:0.97667\n",
      "[653]\tvalidation_0-auc:0.97668\n",
      "[654]\tvalidation_0-auc:0.97668\n",
      "[655]\tvalidation_0-auc:0.97670\n",
      "[656]\tvalidation_0-auc:0.97670\n",
      "[657]\tvalidation_0-auc:0.97669\n",
      "[658]\tvalidation_0-auc:0.97670\n",
      "[659]\tvalidation_0-auc:0.97672\n",
      "[660]\tvalidation_0-auc:0.97673\n",
      "[661]\tvalidation_0-auc:0.97675\n",
      "[662]\tvalidation_0-auc:0.97676\n",
      "[663]\tvalidation_0-auc:0.97681\n",
      "[664]\tvalidation_0-auc:0.97679\n",
      "[665]\tvalidation_0-auc:0.97678\n",
      "[666]\tvalidation_0-auc:0.97677\n",
      "[667]\tvalidation_0-auc:0.97679\n",
      "[668]\tvalidation_0-auc:0.97677\n",
      "[669]\tvalidation_0-auc:0.97679\n",
      "[670]\tvalidation_0-auc:0.97680\n",
      "[671]\tvalidation_0-auc:0.97679\n",
      "[672]\tvalidation_0-auc:0.97681\n",
      "[673]\tvalidation_0-auc:0.97681\n",
      "[674]\tvalidation_0-auc:0.97680\n",
      "[675]\tvalidation_0-auc:0.97679\n",
      "[676]\tvalidation_0-auc:0.97680\n",
      "[677]\tvalidation_0-auc:0.97682\n",
      "[678]\tvalidation_0-auc:0.97682\n",
      "[679]\tvalidation_0-auc:0.97683\n",
      "[680]\tvalidation_0-auc:0.97682\n",
      "[681]\tvalidation_0-auc:0.97681\n",
      "[682]\tvalidation_0-auc:0.97678\n",
      "[683]\tvalidation_0-auc:0.97679\n",
      "[684]\tvalidation_0-auc:0.97680\n",
      "[685]\tvalidation_0-auc:0.97678\n",
      "[686]\tvalidation_0-auc:0.97677\n",
      "[687]\tvalidation_0-auc:0.97680\n",
      "[688]\tvalidation_0-auc:0.97680\n",
      "[689]\tvalidation_0-auc:0.97681\n",
      "[690]\tvalidation_0-auc:0.97681\n",
      "[691]\tvalidation_0-auc:0.97680\n",
      "[692]\tvalidation_0-auc:0.97682\n",
      "[693]\tvalidation_0-auc:0.97682\n",
      "[694]\tvalidation_0-auc:0.97680\n",
      "[695]\tvalidation_0-auc:0.97681\n",
      "[696]\tvalidation_0-auc:0.97679\n",
      "[697]\tvalidation_0-auc:0.97678\n",
      "[698]\tvalidation_0-auc:0.97681\n",
      "[699]\tvalidation_0-auc:0.97677\n",
      "[700]\tvalidation_0-auc:0.97678\n",
      "[701]\tvalidation_0-auc:0.97676\n",
      "[702]\tvalidation_0-auc:0.97680\n",
      "[703]\tvalidation_0-auc:0.97681\n",
      "[704]\tvalidation_0-auc:0.97682\n",
      "[705]\tvalidation_0-auc:0.97680\n",
      "[706]\tvalidation_0-auc:0.97679\n",
      "[707]\tvalidation_0-auc:0.97676\n",
      "[708]\tvalidation_0-auc:0.97674\n",
      "[709]\tvalidation_0-auc:0.97672\n",
      "[710]\tvalidation_0-auc:0.97672\n",
      "[711]\tvalidation_0-auc:0.97671\n",
      "[712]\tvalidation_0-auc:0.97672\n",
      "[713]\tvalidation_0-auc:0.97673\n",
      "[714]\tvalidation_0-auc:0.97673\n",
      "[715]\tvalidation_0-auc:0.97671\n",
      "[716]\tvalidation_0-auc:0.97669\n",
      "[717]\tvalidation_0-auc:0.97670\n",
      "[718]\tvalidation_0-auc:0.97670\n",
      "[719]\tvalidation_0-auc:0.97672\n",
      "[720]\tvalidation_0-auc:0.97670\n",
      "[721]\tvalidation_0-auc:0.97670\n",
      "[722]\tvalidation_0-auc:0.97670\n",
      "[723]\tvalidation_0-auc:0.97670\n",
      "[724]\tvalidation_0-auc:0.97669\n",
      "[725]\tvalidation_0-auc:0.97670\n",
      "[726]\tvalidation_0-auc:0.97670\n",
      "[727]\tvalidation_0-auc:0.97670\n",
      "[728]\tvalidation_0-auc:0.97669\n",
      "[729]\tvalidation_0-auc:0.97668\n",
      "[730]\tvalidation_0-auc:0.97666\n",
      "[731]\tvalidation_0-auc:0.97665\n",
      "[732]\tvalidation_0-auc:0.97666\n",
      "[733]\tvalidation_0-auc:0.97665\n",
      "[734]\tvalidation_0-auc:0.97664\n",
      "[735]\tvalidation_0-auc:0.97665\n",
      "[736]\tvalidation_0-auc:0.97664\n",
      "[737]\tvalidation_0-auc:0.97665\n",
      "[738]\tvalidation_0-auc:0.97666\n",
      "[739]\tvalidation_0-auc:0.97667\n",
      "[740]\tvalidation_0-auc:0.97664\n",
      "[741]\tvalidation_0-auc:0.97661\n",
      "[742]\tvalidation_0-auc:0.97661\n",
      "[743]\tvalidation_0-auc:0.97661\n",
      "[744]\tvalidation_0-auc:0.97664\n",
      "[745]\tvalidation_0-auc:0.97664\n",
      "[746]\tvalidation_0-auc:0.97664\n",
      "[747]\tvalidation_0-auc:0.97663\n",
      "[748]\tvalidation_0-auc:0.97662\n",
      "[749]\tvalidation_0-auc:0.97662\n",
      "[750]\tvalidation_0-auc:0.97660\n",
      "[751]\tvalidation_0-auc:0.97659\n",
      "[752]\tvalidation_0-auc:0.97662\n",
      "[753]\tvalidation_0-auc:0.97662\n",
      "[754]\tvalidation_0-auc:0.97661\n",
      "[755]\tvalidation_0-auc:0.97662\n",
      "[756]\tvalidation_0-auc:0.97660\n",
      "[757]\tvalidation_0-auc:0.97659\n",
      "[758]\tvalidation_0-auc:0.97659\n",
      "[759]\tvalidation_0-auc:0.97658\n",
      "[760]\tvalidation_0-auc:0.97659\n",
      "[761]\tvalidation_0-auc:0.97659\n",
      "[762]\tvalidation_0-auc:0.97660\n",
      "[763]\tvalidation_0-auc:0.97659\n",
      "[764]\tvalidation_0-auc:0.97660\n",
      "[765]\tvalidation_0-auc:0.97660\n",
      "[766]\tvalidation_0-auc:0.97659\n",
      "[767]\tvalidation_0-auc:0.97659\n",
      "[768]\tvalidation_0-auc:0.97664\n",
      "[769]\tvalidation_0-auc:0.97664\n",
      "[770]\tvalidation_0-auc:0.97663\n",
      "[771]\tvalidation_0-auc:0.97662\n",
      "[772]\tvalidation_0-auc:0.97661\n",
      "[773]\tvalidation_0-auc:0.97664\n",
      "[774]\tvalidation_0-auc:0.97663\n",
      "[775]\tvalidation_0-auc:0.97663\n",
      "[776]\tvalidation_0-auc:0.97661\n",
      "[777]\tvalidation_0-auc:0.97661\n",
      "[778]\tvalidation_0-auc:0.97660\n",
      "[779]\tvalidation_0-auc:0.97660\n",
      "[780]\tvalidation_0-auc:0.97660\n",
      "[781]\tvalidation_0-auc:0.97662\n",
      "[782]\tvalidation_0-auc:0.97661\n",
      "[783]\tvalidation_0-auc:0.97663\n",
      "[784]\tvalidation_0-auc:0.97664\n",
      "[785]\tvalidation_0-auc:0.97663\n",
      "[786]\tvalidation_0-auc:0.97662\n",
      "[787]\tvalidation_0-auc:0.97661\n",
      "[788]\tvalidation_0-auc:0.97662\n",
      "[789]\tvalidation_0-auc:0.97661\n",
      "[790]\tvalidation_0-auc:0.97662\n",
      "[791]\tvalidation_0-auc:0.97659\n",
      "[792]\tvalidation_0-auc:0.97660\n",
      "[793]\tvalidation_0-auc:0.97660\n",
      "[794]\tvalidation_0-auc:0.97659\n",
      "[795]\tvalidation_0-auc:0.97659\n",
      "[796]\tvalidation_0-auc:0.97659\n",
      "[797]\tvalidation_0-auc:0.97659\n",
      "[798]\tvalidation_0-auc:0.97656\n",
      "[799]\tvalidation_0-auc:0.97656\n",
      "[800]\tvalidation_0-auc:0.97656\n",
      "[801]\tvalidation_0-auc:0.97657\n",
      "[802]\tvalidation_0-auc:0.97656\n",
      "[803]\tvalidation_0-auc:0.97657\n",
      "[804]\tvalidation_0-auc:0.97657\n",
      "[805]\tvalidation_0-auc:0.97659\n",
      "[806]\tvalidation_0-auc:0.97659\n",
      "[807]\tvalidation_0-auc:0.97657\n",
      "[808]\tvalidation_0-auc:0.97656\n",
      "[809]\tvalidation_0-auc:0.97658\n",
      "[810]\tvalidation_0-auc:0.97658\n",
      "[811]\tvalidation_0-auc:0.97657\n",
      "[812]\tvalidation_0-auc:0.97656\n",
      "[813]\tvalidation_0-auc:0.97657\n",
      "[814]\tvalidation_0-auc:0.97657\n",
      "[815]\tvalidation_0-auc:0.97657\n",
      "[816]\tvalidation_0-auc:0.97658\n",
      "[817]\tvalidation_0-auc:0.97659\n",
      "[818]\tvalidation_0-auc:0.97660\n",
      "[819]\tvalidation_0-auc:0.97661\n",
      "[820]\tvalidation_0-auc:0.97661\n",
      "[821]\tvalidation_0-auc:0.97663\n",
      "[822]\tvalidation_0-auc:0.97664\n",
      "[823]\tvalidation_0-auc:0.97665\n",
      "[824]\tvalidation_0-auc:0.97663\n",
      "[825]\tvalidation_0-auc:0.97664\n",
      "[826]\tvalidation_0-auc:0.97662\n",
      "[827]\tvalidation_0-auc:0.97662\n",
      "[828]\tvalidation_0-auc:0.97662\n",
      "[829]\tvalidation_0-auc:0.97662\n",
      "[830]\tvalidation_0-auc:0.97662\n",
      "[831]\tvalidation_0-auc:0.97662\n",
      "[832]\tvalidation_0-auc:0.97662\n",
      "[833]\tvalidation_0-auc:0.97663\n",
      "[834]\tvalidation_0-auc:0.97663\n",
      "[835]\tvalidation_0-auc:0.97661\n",
      "[836]\tvalidation_0-auc:0.97659\n",
      "[837]\tvalidation_0-auc:0.97664\n",
      "[838]\tvalidation_0-auc:0.97663\n",
      "[839]\tvalidation_0-auc:0.97663\n",
      "[840]\tvalidation_0-auc:0.97662\n",
      "[841]\tvalidation_0-auc:0.97663\n",
      "[842]\tvalidation_0-auc:0.97664\n",
      "[843]\tvalidation_0-auc:0.97662\n",
      "[844]\tvalidation_0-auc:0.97659\n",
      "[845]\tvalidation_0-auc:0.97659\n",
      "[846]\tvalidation_0-auc:0.97661\n",
      "[847]\tvalidation_0-auc:0.97661\n",
      "[848]\tvalidation_0-auc:0.97661\n",
      "[849]\tvalidation_0-auc:0.97660\n",
      "[850]\tvalidation_0-auc:0.97659\n",
      "[851]\tvalidation_0-auc:0.97659\n",
      "[852]\tvalidation_0-auc:0.97660\n",
      "[853]\tvalidation_0-auc:0.97662\n",
      "[854]\tvalidation_0-auc:0.97660\n",
      "[855]\tvalidation_0-auc:0.97660\n",
      "[856]\tvalidation_0-auc:0.97662\n",
      "[857]\tvalidation_0-auc:0.97664\n",
      "[858]\tvalidation_0-auc:0.97664\n",
      "[859]\tvalidation_0-auc:0.97666\n",
      "[860]\tvalidation_0-auc:0.97666\n",
      "[861]\tvalidation_0-auc:0.97664\n",
      "[862]\tvalidation_0-auc:0.97666\n",
      "[863]\tvalidation_0-auc:0.97666\n",
      "[864]\tvalidation_0-auc:0.97666\n",
      "[865]\tvalidation_0-auc:0.97667\n",
      "[866]\tvalidation_0-auc:0.97665\n",
      "[867]\tvalidation_0-auc:0.97668\n",
      "[868]\tvalidation_0-auc:0.97669\n",
      "[869]\tvalidation_0-auc:0.97668\n",
      "[870]\tvalidation_0-auc:0.97670\n",
      "[871]\tvalidation_0-auc:0.97667\n",
      "[872]\tvalidation_0-auc:0.97667\n",
      "[873]\tvalidation_0-auc:0.97666\n",
      "[874]\tvalidation_0-auc:0.97664\n",
      "[875]\tvalidation_0-auc:0.97662\n",
      "[876]\tvalidation_0-auc:0.97660\n",
      "[877]\tvalidation_0-auc:0.97660\n",
      "[878]\tvalidation_0-auc:0.97660\n",
      "[879]\tvalidation_0-auc:0.97658\n",
      "[880]\tvalidation_0-auc:0.97660\n",
      "[881]\tvalidation_0-auc:0.97658\n",
      "[882]\tvalidation_0-auc:0.97658\n",
      "[883]\tvalidation_0-auc:0.97657\n",
      "[884]\tvalidation_0-auc:0.97656\n",
      "[885]\tvalidation_0-auc:0.97657\n",
      "[886]\tvalidation_0-auc:0.97657\n",
      "[887]\tvalidation_0-auc:0.97657\n",
      "[888]\tvalidation_0-auc:0.97655\n",
      "[889]\tvalidation_0-auc:0.97654\n",
      "[890]\tvalidation_0-auc:0.97655\n",
      "[891]\tvalidation_0-auc:0.97655\n",
      "[892]\tvalidation_0-auc:0.97657\n",
      "[893]\tvalidation_0-auc:0.97657\n",
      "[894]\tvalidation_0-auc:0.97660\n",
      "[895]\tvalidation_0-auc:0.97662\n",
      "[896]\tvalidation_0-auc:0.97663\n",
      "[897]\tvalidation_0-auc:0.97662\n",
      "[898]\tvalidation_0-auc:0.97659\n",
      "[899]\tvalidation_0-auc:0.97659\n",
      "[900]\tvalidation_0-auc:0.97658\n",
      "[901]\tvalidation_0-auc:0.97657\n",
      "[902]\tvalidation_0-auc:0.97657\n",
      "[903]\tvalidation_0-auc:0.97656\n",
      "[904]\tvalidation_0-auc:0.97657\n",
      "[905]\tvalidation_0-auc:0.97658\n",
      "[906]\tvalidation_0-auc:0.97660\n",
      "[907]\tvalidation_0-auc:0.97660\n",
      "[908]\tvalidation_0-auc:0.97662\n",
      "[909]\tvalidation_0-auc:0.97662\n",
      "[910]\tvalidation_0-auc:0.97661\n",
      "[911]\tvalidation_0-auc:0.97663\n",
      "[912]\tvalidation_0-auc:0.97663\n",
      "[913]\tvalidation_0-auc:0.97661\n",
      "[914]\tvalidation_0-auc:0.97661\n",
      "[915]\tvalidation_0-auc:0.97660\n",
      "[916]\tvalidation_0-auc:0.97661\n",
      "[917]\tvalidation_0-auc:0.97660\n",
      "[918]\tvalidation_0-auc:0.97659\n",
      "[919]\tvalidation_0-auc:0.97657\n",
      "[920]\tvalidation_0-auc:0.97656\n",
      "[921]\tvalidation_0-auc:0.97655\n",
      "[922]\tvalidation_0-auc:0.97653\n",
      "[923]\tvalidation_0-auc:0.97652\n",
      "[924]\tvalidation_0-auc:0.97651\n",
      "[925]\tvalidation_0-auc:0.97651\n",
      "[926]\tvalidation_0-auc:0.97650\n",
      "[927]\tvalidation_0-auc:0.97650\n",
      "[928]\tvalidation_0-auc:0.97651\n",
      "[929]\tvalidation_0-auc:0.97654\n",
      "[930]\tvalidation_0-auc:0.97653\n",
      "[931]\tvalidation_0-auc:0.97652\n",
      "[932]\tvalidation_0-auc:0.97650\n",
      "[933]\tvalidation_0-auc:0.97650\n",
      "[934]\tvalidation_0-auc:0.97650\n",
      "[935]\tvalidation_0-auc:0.97652\n",
      "[936]\tvalidation_0-auc:0.97650\n",
      "[937]\tvalidation_0-auc:0.97651\n",
      "[938]\tvalidation_0-auc:0.97650\n",
      "[939]\tvalidation_0-auc:0.97650\n",
      "[940]\tvalidation_0-auc:0.97649\n",
      "[941]\tvalidation_0-auc:0.97647\n",
      "[942]\tvalidation_0-auc:0.97646\n",
      "[943]\tvalidation_0-auc:0.97645\n",
      "[944]\tvalidation_0-auc:0.97645\n",
      "[945]\tvalidation_0-auc:0.97644\n",
      "[946]\tvalidation_0-auc:0.97645\n",
      "[947]\tvalidation_0-auc:0.97642\n",
      "[948]\tvalidation_0-auc:0.97643\n",
      "[949]\tvalidation_0-auc:0.97641\n",
      "[950]\tvalidation_0-auc:0.97640\n",
      "[951]\tvalidation_0-auc:0.97639\n",
      "[952]\tvalidation_0-auc:0.97638\n",
      "[953]\tvalidation_0-auc:0.97641\n",
      "[954]\tvalidation_0-auc:0.97643\n",
      "[955]\tvalidation_0-auc:0.97643\n",
      "[956]\tvalidation_0-auc:0.97644\n",
      "[957]\tvalidation_0-auc:0.97644\n",
      "[958]\tvalidation_0-auc:0.97647\n",
      "[959]\tvalidation_0-auc:0.97648\n",
      "[960]\tvalidation_0-auc:0.97647\n",
      "[961]\tvalidation_0-auc:0.97648\n",
      "[962]\tvalidation_0-auc:0.97647\n",
      "[963]\tvalidation_0-auc:0.97647\n",
      "[964]\tvalidation_0-auc:0.97647\n",
      "[965]\tvalidation_0-auc:0.97646\n",
      "[966]\tvalidation_0-auc:0.97646\n",
      "[967]\tvalidation_0-auc:0.97647\n",
      "[968]\tvalidation_0-auc:0.97647\n",
      "[969]\tvalidation_0-auc:0.97648\n",
      "[970]\tvalidation_0-auc:0.97646\n",
      "[971]\tvalidation_0-auc:0.97646\n",
      "[972]\tvalidation_0-auc:0.97645\n",
      "[973]\tvalidation_0-auc:0.97644\n",
      "[974]\tvalidation_0-auc:0.97643\n",
      "[975]\tvalidation_0-auc:0.97644\n",
      "[976]\tvalidation_0-auc:0.97645\n",
      "[977]\tvalidation_0-auc:0.97643\n",
      "[978]\tvalidation_0-auc:0.97643\n",
      "[979]\tvalidation_0-auc:0.97646\n",
      "[980]\tvalidation_0-auc:0.97645\n",
      "[981]\tvalidation_0-auc:0.97645\n",
      "[982]\tvalidation_0-auc:0.97643\n",
      "[983]\tvalidation_0-auc:0.97643\n",
      "[984]\tvalidation_0-auc:0.97643\n",
      "[985]\tvalidation_0-auc:0.97642\n",
      "[986]\tvalidation_0-auc:0.97641\n",
      "[987]\tvalidation_0-auc:0.97640\n",
      "[988]\tvalidation_0-auc:0.97641\n",
      "[989]\tvalidation_0-auc:0.97642\n",
      "[990]\tvalidation_0-auc:0.97642\n",
      "[991]\tvalidation_0-auc:0.97644\n",
      "[992]\tvalidation_0-auc:0.97645\n",
      "[993]\tvalidation_0-auc:0.97645\n",
      "[994]\tvalidation_0-auc:0.97644\n",
      "[995]\tvalidation_0-auc:0.97643\n",
      "[996]\tvalidation_0-auc:0.97644\n",
      "[997]\tvalidation_0-auc:0.97643\n",
      "[998]\tvalidation_0-auc:0.97644\n",
      "[999]\tvalidation_0-auc:0.97645\n",
      "Elapsed time: 404.5018 seconds ...\n"
     ]
    }
   ],
   "source": [
    "import time\n",
    "from xgboost import XGBClassifier\n",
    "\n",
    "clf = XGBClassifier(\n",
    "    objective='binary:logistic',\n",
    "    n_estimators=1000, \n",
    "    learning_rate=0.1,\n",
    ")\n",
    "\n",
    "start_time = time.time()\n",
    "clf.fit(\n",
    "    X_train_sm, y_train_sm,\n",
    "    # early_stopping_rounds=50,\n",
    "    eval_metric=\"auc\",\n",
    "    eval_set=[(X_test_scaled, y_test)],\n",
    "    verbose=True\n",
    ")\n",
    "print(f\"Elapsed time: {round(time.time() - start_time, 4)} seconds ...\")"
   ]
  },
  {
   "cell_type": "markdown",
   "metadata": {
    "id": "ayt5zSNg6Aqy"
   },
   "source": [
    "### Model evaluation\n",
    "\n",
    "* `40.7139` seconds was spent on training the model with early_stopping (68 estimators).\n",
    "* `404.5018` seconds was spent on training the model with 1000 estimators."
   ]
  },
  {
   "cell_type": "code",
   "execution_count": 18,
   "metadata": {
    "colab": {
     "base_uri": "https://localhost:8080/"
    },
    "executionInfo": {
     "elapsed": 830,
     "status": "ok",
     "timestamp": 1642233277449,
     "user": {
      "displayName": "Shenghao Wang",
      "photoUrl": "https://lh3.googleusercontent.com/a-/AOh14GiT6goIzUJr_1VjpA5YJ4Uqk6hgVMG81xgsvkvgLg=s64",
      "userId": "07533046575054140568"
     },
     "user_tz": -480
    },
    "id": "ArWUj8Dwqk9S",
    "outputId": "7a79c533-e4d5-4a9b-a796-b974caaff4c7"
   },
   "outputs": [
    {
     "name": "stdout",
     "output_type": "stream",
     "text": [
      "ROC-AUC-Test: 0.9764\n",
      "PR-AUC-Test: 0.8424\n",
      "-----------------------------------------------------------\n",
      "\n"
     ]
    }
   ],
   "source": [
    "from sklearn.metrics import roc_auc_score\n",
    "from sklearn.metrics import average_precision_score\n",
    "\n",
    "\n",
    "y_pred_proba = clf.predict_proba(X_test_scaled)\n",
    "\n",
    "auc = roc_auc_score(y_test, y_pred_proba[:, 1])\n",
    "aucpr = average_precision_score(y_test, y_pred_proba[:, 1])\n",
    "print(\"ROC-AUC-Test: \" + str(round(auc, 4)))\n",
    "print(\"PR-AUC-Test: \" + str(round(aucpr, 4)))\n",
    "print(\"-----------------------------------------------------------\\n\")"
   ]
  },
  {
   "cell_type": "code",
   "execution_count": 19,
   "metadata": {
    "colab": {
     "base_uri": "https://localhost:8080/"
    },
    "executionInfo": {
     "elapsed": 1180,
     "status": "ok",
     "timestamp": 1642233282360,
     "user": {
      "displayName": "Shenghao Wang",
      "photoUrl": "https://lh3.googleusercontent.com/a-/AOh14GiT6goIzUJr_1VjpA5YJ4Uqk6hgVMG81xgsvkvgLg=s64",
      "userId": "07533046575054140568"
     },
     "user_tz": -480
    },
    "id": "xp56zrpErS0g",
    "outputId": "0138ca21-69ce-4d92-99c5-621ad0eaf1d1"
   },
   "outputs": [
    {
     "name": "stdout",
     "output_type": "stream",
     "text": [
      "Precision score: 0.8322\n",
      "Recall score: 0.8041\n",
      "F1 score: 0.8179\n"
     ]
    }
   ],
   "source": [
    "from sklearn.metrics import (\n",
    "    precision_score, recall_score, f1_score\n",
    ")\n",
    "\n",
    "y_pred = clf.predict(X_test_scaled)\n",
    "\n",
    "print(f\"Precision score: {round(precision_score(y_test, y_pred), 4)}\")\n",
    "print(f\"Recall score: {round(recall_score(y_test, y_pred), 4)}\")\n",
    "print(f\"F1 score: {round(f1_score(y_test, y_pred), 4)}\")"
   ]
  },
  {
   "cell_type": "code",
   "execution_count": 20,
   "metadata": {
    "colab": {
     "base_uri": "https://localhost:8080/",
     "height": 295
    },
    "executionInfo": {
     "elapsed": 336,
     "status": "ok",
     "timestamp": 1642234278527,
     "user": {
      "displayName": "Shenghao Wang",
      "photoUrl": "https://lh3.googleusercontent.com/a-/AOh14GiT6goIzUJr_1VjpA5YJ4Uqk6hgVMG81xgsvkvgLg=s64",
      "userId": "07533046575054140568"
     },
     "user_tz": -480
    },
    "id": "zQEbJ1EixzlD",
    "outputId": "5b96811d-baa5-479f-f9a8-7e1557b1e363"
   },
   "outputs": [
    {
     "data": {
      "image/png": "[encoded data removed]",
      "text/plain": [
       "<Figure size 432x288 with 1 Axes>"
      ]
     },
     "metadata": {
      "needs_background": "light"
     },
     "output_type": "display_data"
    }
   ],
   "source": [
    "from sklearn.metrics import (\n",
    "    roc_curve, auc\n",
    ")\n",
    "\n",
    "# calculate the fpr and tpr for all thresholds of the classification\n",
    "fpr, tpr, threshold = roc_curve(y_test, y_pred_proba[:, 1])\n",
    "roc_auc = auc(fpr, tpr)\n",
    "\n",
    "# method I: plt\n",
    "import matplotlib.pyplot as plt\n",
    "plt.title('Receiver Operating Characteristic')\n",
    "plt.plot(fpr, tpr, 'b', label = 'AUC = %0.2f' % roc_auc)\n",
    "plt.legend(loc = 'lower right')\n",
    "plt.plot([0, 1], [0, 1],'r--')\n",
    "plt.xlim([-0.01, 1])\n",
    "plt.ylim([0, 1.01])\n",
    "plt.ylabel('True Positive Rate')\n",
    "plt.xlabel('False Positive Rate')\n",
    "plt.show()"
   ]
  },
  {
   "cell_type": "markdown",
   "metadata": {
    "id": "T6EdEPIcxM0k"
   },
   "source": [
    "## Export Python Model"
   ]
  },
  {
   "cell_type": "code",
   "execution_count": 21,
   "metadata": {
    "id": "w9wQo451u1UI"
   },
   "outputs": [],
   "source": [
    "import pickle\n",
    "import joblib\n",
    "\n",
    "\n",
    "model_save_name = \"models/fraud_detect_xgboost_py_model.joblib\"\n",
    "joblib.dump(clf, model_save_name)\n",
    "\n",
    "scaler_save_name = \"models/fraud_detect_py_scaler.pkl\"\n",
    "with open (scaler_save_name, 'wb') as f:\n",
    "    pickle.dump(scaler, f)"
   ]
  },
  {
   "cell_type": "markdown",
   "metadata": {
    "id": "ElMklfPwYgQG"
   },
   "source": [
    "## References\n",
    "\n",
    "\n",
    "### Credit Fraud || Dealing with Imbalanced Datasets\n",
    "\n",
    "https://www.kaggle.com/janiobachmann/credit-fraud-dealing-with-imbalanced-datasets/notebook"
   ]
  }
 ],
 "metadata": {
  "colab": {
   "authorship_tag": "ABX9TyNCU89K2PM7OYNbhWIV4+aZ",
   "collapsed_sections": [],
   "name": "Credit Card Fraud Detection - Python.ipynb",
   "provenance": [],
   "toc_visible": true
  },
  "kernelspec": {
   "display_name": "julia-traditional-ml-env",
   "language": "python",
   "name": "julia-traditional-ml-env"
  },
  "language_info": {
   "codemirror_mode": {
    "name": "ipython",
    "version": 3
   },
   "file_extension": ".py",
   "mimetype": "text/x-python",
   "name": "python",
   "nbconvert_exporter": "python",
   "pygments_lexer": "ipython3",
   "version": "3.10.4"
  }
 },
 "nbformat": 4,
 "nbformat_minor": 4
}
